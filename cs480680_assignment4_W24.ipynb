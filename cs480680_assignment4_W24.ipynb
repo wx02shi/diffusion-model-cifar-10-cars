{
  "cells": [
    {
      "cell_type": "markdown",
      "metadata": {
        "id": "MeqOUBctDd32"
      },
      "source": [
        "# CS 480/680 assignment 4\n",
        "\n",
        "Tips:\n",
        "- Please save a copy of this notebook to avoid losing your changes.\n",
        "- Debug your code and ensure that it can run.\n",
        "- Save the output of each cell. Failure to do so may result in your coding questions not being graded.\n",
        "- To accelerate the training time, you can choose 'Runtime' -> 'Change runtime type' -> 'Hardware accelerator' and set 'Hardware accelerator' to 'GPU'.\n",
        "- Your grade is independent of the accuracy of your models. Your grade will depend on the correctness of your code and implementation.\n",
        "\n",
        "Tips for submission:\n",
        "- Do not change the order of the problems.\n",
        "- Select 'Runtime' -> 'Run all' to run all cells and generate a final \"gradable\" version of your notebook and save your ipynb file.\n",
        "- Also use 'File' -> 'Print' and then print your report from your browser into a PDF file."
      ]
    },
    {
      "cell_type": "markdown",
      "metadata": {
        "id": "-uEZzFeq3VEL"
      },
      "source": [
        "##Question1 - Adversarial Training (55 points)\n",
        "\n",
        "In this assignment, you are supposed to train a model using limited data that, in addition to generalization, also possesses good robustness.\n",
        "\n",
        "\n",
        "You can add any extra libraries that you need in this cell."
      ]
    },
    {
      "cell_type": "code",
      "execution_count": 1,
      "metadata": {
        "id": "lzFHzSZI3T7M"
      },
      "outputs": [],
      "source": [
        "import torch\n",
        "import torchvision\n",
        "import numpy as np\n",
        "from sklearn.model_selection import train_test_split\n",
        "from torchvision import transforms\n",
        "from collections import Counter\n",
        "import matplotlib.pyplot as plt\n",
        "import torchvision.models as models\n",
        "import umap\n",
        "from tqdm import tqdm\n",
        "import torch.nn as nn\n",
        "from sklearn.neighbors import KNeighborsClassifier\n",
        "from sklearn.metrics import accuracy_score\n",
        "import random\n",
        "from cleverhans.torch.attacks.fast_gradient_method import fast_gradient_method\n",
        "# import torchattacks"
      ]
    },
    {
      "cell_type": "code",
      "execution_count": 2,
      "metadata": {
        "id": "q7RjG9GKMeeR"
      },
      "outputs": [],
      "source": [
        "device=torch.device(\"cuda:0\" if torch.cuda.is_available() else \"cpu\")"
      ]
    },
    {
      "cell_type": "markdown",
      "metadata": {
        "id": "65xPucx1H5Fa"
      },
      "source": [
        "###Q1.1 Load Data (5 points)\n",
        "\n",
        "In this question, you are going to use CIFAR-10 dataset. First, load this dataset, then split 20% of the data for training and the rest for validation. Make sure to maintain class balance during the split."
      ]
    },
    {
      "cell_type": "code",
      "execution_count": 3,
      "metadata": {
        "id": "lJR768loIjGJ"
      },
      "outputs": [
        {
          "name": "stdout",
          "output_type": "stream",
          "text": [
            "Files already downloaded and verified\n",
            "Files already downloaded and verified\n"
          ]
        }
      ],
      "source": [
        "TRAIN_SIZE = 0.2\n",
        "cifar_transforms = transforms.Compose(\n",
        "    [transforms.ToTensor(),\n",
        "     transforms.Normalize(0.5, 0.5)])\n",
        "cifar_trainset = torchvision.datasets.CIFAR10(root='./data', train=True, download=True)\n",
        "cifar_testset = torchvision.datasets.CIFAR10(root='./data', train=False, download=True)\n"
      ]
    },
    {
      "cell_type": "code",
      "execution_count": 4,
      "metadata": {
        "id": "5v_KiWmyH57Q"
      },
      "outputs": [],
      "source": [
        "class Cifar10Dataset(torch.utils.data.Dataset):\n",
        "\n",
        "    def __init__(self,dataset,idx,transforms=None):\n",
        "        self.idx = idx\n",
        "        self.transforms = transforms\n",
        "        self.data = torch.utils.data.Subset(dataset, idx)\n",
        "\n",
        "    def __getitem__(self,index):\n",
        "        image,label = self.data[index]\n",
        "        if(self.transforms!= None):\n",
        "            image = self.transforms(image)\n",
        "\n",
        "        return image,label\n",
        "\n",
        "    def __len__(self):\n",
        "        return len(self.data)\n",
        "\n",
        "#Split data and create the dataloader\n",
        "BATCH_SIZE = 256\n",
        "FGSM_EPS = 8 / 255\n",
        "\n",
        "labels = cifar_trainset.targets\n",
        "train_idx, val_idx = train_test_split(range(len(labels)), train_size=TRAIN_SIZE, stratify=labels)\n",
        "\n",
        "train = Cifar10Dataset(cifar_trainset,train_idx,cifar_transforms)\n",
        "val = Cifar10Dataset(cifar_trainset,val_idx,cifar_transforms)\n",
        "test = Cifar10Dataset(cifar_testset,range(len(cifar_testset)),cifar_transforms)\n",
        "\n",
        "train_loader = torch.utils.data.DataLoader(train, batch_size=BATCH_SIZE)\n",
        "val_loader = torch.utils.data.DataLoader(val, batch_size=len(val))\n",
        "test_loader = torch.utils.data.DataLoader(test, batch_size=len(test))"
      ]
    },
    {
      "cell_type": "markdown",
      "metadata": {
        "id": "dqqxZWaTI-MN"
      },
      "source": [
        "###Q1.2 Train Model (15 points)\n",
        "\n",
        "Train a ResNet18 model using the cross-entropy loss function, and report its accuracy on validation and test datasets.\n",
        "\n",
        "After that, reduce the dimensionality of the output of the backbone of the network and visualize it for the unseen data. You can use UMAP for dimensionality reduction. Note that for this task, you are not allowed to use the labels."
      ]
    },
    {
      "cell_type": "code",
      "execution_count": 5,
      "metadata": {
        "id": "pqOPow3GJWK5"
      },
      "outputs": [],
      "source": [
        "class Resnet18(nn.Module):\n",
        "    def __init__(self, num_classes):\n",
        "        super().__init__()\n",
        "        self.resnet = models.resnet18(num_classes=num_classes)\n",
        "\n",
        "    def forward(self, x):\n",
        "        return self.resnet(x)"
      ]
    },
    {
      "cell_type": "code",
      "execution_count": 6,
      "metadata": {
        "id": "lMx0pg8wLnu6"
      },
      "outputs": [],
      "source": [
        "def train(model,data_loader,criterion,optimizer,attack=False, eval=False):\n",
        "    model.train()\n",
        "    average_train_loss = 0\n",
        "\n",
        "    with tqdm(data_loader, desc=\"train\") as train_tqdm:\n",
        "        for batch_idx, (inputs, targets) in enumerate(train_tqdm):\n",
        "            inputs, targets = inputs.to(device), targets.to(device)\n",
        "\n",
        "            if attack is True:\n",
        "                # attacker = torchattacks.FGSM(model, eps=FGSM_EPS)\n",
        "                # inputs = attacker(inputs, targets)\n",
        "                inputs = fast_gradient_method(model, inputs, eps=FGSM_EPS, norm=np.inf)\n",
        "\n",
        "            optimizer.zero_grad()\n",
        "\n",
        "            outputs = model(inputs)\n",
        "            loss = criterion(outputs, targets)\n",
        "            loss.backward()\n",
        "            optimizer.step()\n",
        "\n",
        "            average_train_loss += loss.item()\n",
        "    average_train_loss /= len(data_loader)\n",
        "    \n",
        "    accuracy = None\n",
        "    if eval is True:\n",
        "        accuracy = 0\n",
        "        model.eval()\n",
        "        with torch.no_grad():\n",
        "            for inputs, targets in data_loader:\n",
        "                inputs, targets = inputs.to(device), targets.to(device)\n",
        "                outputs = model(inputs)\n",
        "                predictions = nn.functional.softmax(outputs, dim=1).argmax(dim=1)\n",
        "                accuracy += (predictions == targets).sum().item()\n",
        "        accuracy /= len(data_loader.dataset)\n",
        "\n",
        "    return average_train_loss, accuracy\n",
        "\n",
        "\n",
        "N_EPOCHS = 50\n",
        "NUM_CLASSES = 10\n",
        "EVAL_INTERVAL = 100"
      ]
    },
    {
      "cell_type": "code",
      "execution_count": 7,
      "metadata": {},
      "outputs": [
        {
          "name": "stderr",
          "output_type": "stream",
          "text": [
            "train: 100%|██████████| 40/40 [00:02<00:00, 17.26it/s]\n"
          ]
        },
        {
          "name": "stdout",
          "output_type": "stream",
          "text": [
            "   Epoch 1 - Train Loss: 1.7654459327459335 - Accuracy: 0.3565\n"
          ]
        },
        {
          "name": "stderr",
          "output_type": "stream",
          "text": [
            "train: 100%|██████████| 40/40 [00:01<00:00, 20.92it/s]\n"
          ]
        },
        {
          "name": "stdout",
          "output_type": "stream",
          "text": [
            "   Epoch 2 - Train Loss: 1.5191361963748933 - Accuracy: None\n"
          ]
        },
        {
          "name": "stderr",
          "output_type": "stream",
          "text": [
            "train: 100%|██████████| 40/40 [00:01<00:00, 21.03it/s]\n"
          ]
        },
        {
          "name": "stdout",
          "output_type": "stream",
          "text": [
            "   Epoch 3 - Train Loss: 1.2944569736719131 - Accuracy: None\n"
          ]
        },
        {
          "name": "stderr",
          "output_type": "stream",
          "text": [
            "train: 100%|██████████| 40/40 [00:01<00:00, 20.47it/s]\n"
          ]
        },
        {
          "name": "stdout",
          "output_type": "stream",
          "text": [
            "   Epoch 4 - Train Loss: 1.1033603996038437 - Accuracy: None\n"
          ]
        },
        {
          "name": "stderr",
          "output_type": "stream",
          "text": [
            "train: 100%|██████████| 40/40 [00:01<00:00, 21.12it/s]\n"
          ]
        },
        {
          "name": "stdout",
          "output_type": "stream",
          "text": [
            "   Epoch 5 - Train Loss: 0.9609625101089477 - Accuracy: None\n"
          ]
        },
        {
          "name": "stderr",
          "output_type": "stream",
          "text": [
            "train: 100%|██████████| 40/40 [00:01<00:00, 20.34it/s]\n"
          ]
        },
        {
          "name": "stdout",
          "output_type": "stream",
          "text": [
            "   Epoch 6 - Train Loss: 0.8188116773962975 - Accuracy: None\n"
          ]
        },
        {
          "name": "stderr",
          "output_type": "stream",
          "text": [
            "train: 100%|██████████| 40/40 [00:01<00:00, 20.29it/s]\n"
          ]
        },
        {
          "name": "stdout",
          "output_type": "stream",
          "text": [
            "   Epoch 7 - Train Loss: 0.6846846856176854 - Accuracy: None\n"
          ]
        },
        {
          "name": "stderr",
          "output_type": "stream",
          "text": [
            "train: 100%|██████████| 40/40 [00:01<00:00, 21.00it/s]\n"
          ]
        },
        {
          "name": "stdout",
          "output_type": "stream",
          "text": [
            "   Epoch 8 - Train Loss: 0.5896531142294407 - Accuracy: None\n"
          ]
        },
        {
          "name": "stderr",
          "output_type": "stream",
          "text": [
            "train: 100%|██████████| 40/40 [00:01<00:00, 20.24it/s]\n"
          ]
        },
        {
          "name": "stdout",
          "output_type": "stream",
          "text": [
            "   Epoch 9 - Train Loss: 0.5125830538570881 - Accuracy: None\n"
          ]
        },
        {
          "name": "stderr",
          "output_type": "stream",
          "text": [
            "train: 100%|██████████| 40/40 [00:01<00:00, 20.45it/s]\n"
          ]
        },
        {
          "name": "stdout",
          "output_type": "stream",
          "text": [
            "   Epoch 10 - Train Loss: 0.4595571911893785 - Accuracy: None\n"
          ]
        },
        {
          "name": "stderr",
          "output_type": "stream",
          "text": [
            "train: 100%|██████████| 40/40 [00:01<00:00, 20.72it/s]\n"
          ]
        },
        {
          "name": "stdout",
          "output_type": "stream",
          "text": [
            "   Epoch 11 - Train Loss: 0.42116104774177077 - Accuracy: None\n"
          ]
        },
        {
          "name": "stderr",
          "output_type": "stream",
          "text": [
            "train: 100%|██████████| 40/40 [00:02<00:00, 19.68it/s]\n"
          ]
        },
        {
          "name": "stdout",
          "output_type": "stream",
          "text": [
            "   Epoch 12 - Train Loss: 0.3837648889049888 - Accuracy: None\n"
          ]
        },
        {
          "name": "stderr",
          "output_type": "stream",
          "text": [
            "train: 100%|██████████| 40/40 [00:01<00:00, 20.48it/s]\n"
          ]
        },
        {
          "name": "stdout",
          "output_type": "stream",
          "text": [
            "   Epoch 13 - Train Loss: 0.33180087748914955 - Accuracy: None\n"
          ]
        },
        {
          "name": "stderr",
          "output_type": "stream",
          "text": [
            "train: 100%|██████████| 40/40 [00:01<00:00, 20.39it/s]\n"
          ]
        },
        {
          "name": "stdout",
          "output_type": "stream",
          "text": [
            "   Epoch 14 - Train Loss: 0.2950288946740329 - Accuracy: None\n"
          ]
        },
        {
          "name": "stderr",
          "output_type": "stream",
          "text": [
            "train: 100%|██████████| 40/40 [00:01<00:00, 20.48it/s]\n"
          ]
        },
        {
          "name": "stdout",
          "output_type": "stream",
          "text": [
            "   Epoch 15 - Train Loss: 0.2659025126136839 - Accuracy: None\n"
          ]
        },
        {
          "name": "stderr",
          "output_type": "stream",
          "text": [
            "train: 100%|██████████| 40/40 [00:01<00:00, 20.13it/s]\n"
          ]
        },
        {
          "name": "stdout",
          "output_type": "stream",
          "text": [
            "   Epoch 16 - Train Loss: 0.22386236805468798 - Accuracy: None\n"
          ]
        },
        {
          "name": "stderr",
          "output_type": "stream",
          "text": [
            "train: 100%|██████████| 40/40 [00:01<00:00, 20.50it/s]\n"
          ]
        },
        {
          "name": "stdout",
          "output_type": "stream",
          "text": [
            "   Epoch 17 - Train Loss: 0.21496035233139993 - Accuracy: None\n"
          ]
        },
        {
          "name": "stderr",
          "output_type": "stream",
          "text": [
            "train: 100%|██████████| 40/40 [00:01<00:00, 20.21it/s]\n"
          ]
        },
        {
          "name": "stdout",
          "output_type": "stream",
          "text": [
            "   Epoch 18 - Train Loss: 0.18672247021459043 - Accuracy: None\n"
          ]
        },
        {
          "name": "stderr",
          "output_type": "stream",
          "text": [
            "train: 100%|██████████| 40/40 [00:01<00:00, 20.01it/s]\n"
          ]
        },
        {
          "name": "stdout",
          "output_type": "stream",
          "text": [
            "   Epoch 19 - Train Loss: 0.20473681690637022 - Accuracy: None\n"
          ]
        },
        {
          "name": "stderr",
          "output_type": "stream",
          "text": [
            "train: 100%|██████████| 40/40 [00:02<00:00, 19.90it/s]\n"
          ]
        },
        {
          "name": "stdout",
          "output_type": "stream",
          "text": [
            "   Epoch 20 - Train Loss: 0.18170609697699547 - Accuracy: None\n"
          ]
        },
        {
          "name": "stderr",
          "output_type": "stream",
          "text": [
            "train: 100%|██████████| 40/40 [00:02<00:00, 19.80it/s]\n"
          ]
        },
        {
          "name": "stdout",
          "output_type": "stream",
          "text": [
            "   Epoch 21 - Train Loss: 0.16643565613776445 - Accuracy: None\n"
          ]
        },
        {
          "name": "stderr",
          "output_type": "stream",
          "text": [
            "train: 100%|██████████| 40/40 [00:01<00:00, 20.41it/s]\n"
          ]
        },
        {
          "name": "stdout",
          "output_type": "stream",
          "text": [
            "   Epoch 22 - Train Loss: 0.15753871076740325 - Accuracy: None\n"
          ]
        },
        {
          "name": "stderr",
          "output_type": "stream",
          "text": [
            "train: 100%|██████████| 40/40 [00:01<00:00, 20.80it/s]\n"
          ]
        },
        {
          "name": "stdout",
          "output_type": "stream",
          "text": [
            "   Epoch 23 - Train Loss: 0.15648874575272204 - Accuracy: None\n"
          ]
        },
        {
          "name": "stderr",
          "output_type": "stream",
          "text": [
            "train: 100%|██████████| 40/40 [00:01<00:00, 20.72it/s]\n"
          ]
        },
        {
          "name": "stdout",
          "output_type": "stream",
          "text": [
            "   Epoch 24 - Train Loss: 0.15094105019234122 - Accuracy: None\n"
          ]
        },
        {
          "name": "stderr",
          "output_type": "stream",
          "text": [
            "train: 100%|██████████| 40/40 [00:01<00:00, 20.38it/s]\n"
          ]
        },
        {
          "name": "stdout",
          "output_type": "stream",
          "text": [
            "   Epoch 25 - Train Loss: 0.1304745134431869 - Accuracy: None\n"
          ]
        },
        {
          "name": "stderr",
          "output_type": "stream",
          "text": [
            "train: 100%|██████████| 40/40 [00:02<00:00, 19.59it/s]\n"
          ]
        },
        {
          "name": "stdout",
          "output_type": "stream",
          "text": [
            "   Epoch 26 - Train Loss: 0.11755717084743082 - Accuracy: None\n"
          ]
        },
        {
          "name": "stderr",
          "output_type": "stream",
          "text": [
            "train: 100%|██████████| 40/40 [00:02<00:00, 19.52it/s]\n"
          ]
        },
        {
          "name": "stdout",
          "output_type": "stream",
          "text": [
            "   Epoch 27 - Train Loss: 0.12168091621715575 - Accuracy: None\n"
          ]
        },
        {
          "name": "stderr",
          "output_type": "stream",
          "text": [
            "train: 100%|██████████| 40/40 [00:02<00:00, 19.49it/s]\n"
          ]
        },
        {
          "name": "stdout",
          "output_type": "stream",
          "text": [
            "   Epoch 28 - Train Loss: 0.11489516193978488 - Accuracy: None\n"
          ]
        },
        {
          "name": "stderr",
          "output_type": "stream",
          "text": [
            "train: 100%|██████████| 40/40 [00:02<00:00, 19.37it/s]\n"
          ]
        },
        {
          "name": "stdout",
          "output_type": "stream",
          "text": [
            "   Epoch 29 - Train Loss: 0.11454905159771442 - Accuracy: None\n"
          ]
        },
        {
          "name": "stderr",
          "output_type": "stream",
          "text": [
            "train: 100%|██████████| 40/40 [00:02<00:00, 19.99it/s]\n"
          ]
        },
        {
          "name": "stdout",
          "output_type": "stream",
          "text": [
            "   Epoch 30 - Train Loss: 0.10266461665742099 - Accuracy: None\n"
          ]
        },
        {
          "name": "stderr",
          "output_type": "stream",
          "text": [
            "train: 100%|██████████| 40/40 [00:01<00:00, 20.48it/s]\n"
          ]
        },
        {
          "name": "stdout",
          "output_type": "stream",
          "text": [
            "   Epoch 31 - Train Loss: 0.09534817177336663 - Accuracy: None\n"
          ]
        },
        {
          "name": "stderr",
          "output_type": "stream",
          "text": [
            "train: 100%|██████████| 40/40 [00:01<00:00, 20.88it/s]\n"
          ]
        },
        {
          "name": "stdout",
          "output_type": "stream",
          "text": [
            "   Epoch 32 - Train Loss: 0.0953314274083823 - Accuracy: None\n"
          ]
        },
        {
          "name": "stderr",
          "output_type": "stream",
          "text": [
            "train: 100%|██████████| 40/40 [00:01<00:00, 20.74it/s]\n"
          ]
        },
        {
          "name": "stdout",
          "output_type": "stream",
          "text": [
            "   Epoch 33 - Train Loss: 0.09521110202185809 - Accuracy: None\n"
          ]
        },
        {
          "name": "stderr",
          "output_type": "stream",
          "text": [
            "train: 100%|██████████| 40/40 [00:01<00:00, 20.80it/s]\n"
          ]
        },
        {
          "name": "stdout",
          "output_type": "stream",
          "text": [
            "   Epoch 34 - Train Loss: 0.08025801095645875 - Accuracy: None\n"
          ]
        },
        {
          "name": "stderr",
          "output_type": "stream",
          "text": [
            "train: 100%|██████████| 40/40 [00:01<00:00, 20.66it/s]\n"
          ]
        },
        {
          "name": "stdout",
          "output_type": "stream",
          "text": [
            "   Epoch 35 - Train Loss: 0.08583664704929106 - Accuracy: None\n"
          ]
        },
        {
          "name": "stderr",
          "output_type": "stream",
          "text": [
            "train: 100%|██████████| 40/40 [00:01<00:00, 20.90it/s]\n"
          ]
        },
        {
          "name": "stdout",
          "output_type": "stream",
          "text": [
            "   Epoch 36 - Train Loss: 0.07881144245620816 - Accuracy: None\n"
          ]
        },
        {
          "name": "stderr",
          "output_type": "stream",
          "text": [
            "train: 100%|██████████| 40/40 [00:01<00:00, 20.81it/s]\n"
          ]
        },
        {
          "name": "stdout",
          "output_type": "stream",
          "text": [
            "   Epoch 37 - Train Loss: 0.08459062802139669 - Accuracy: None\n"
          ]
        },
        {
          "name": "stderr",
          "output_type": "stream",
          "text": [
            "train: 100%|██████████| 40/40 [00:01<00:00, 20.87it/s]\n"
          ]
        },
        {
          "name": "stdout",
          "output_type": "stream",
          "text": [
            "   Epoch 38 - Train Loss: 0.07378497485769912 - Accuracy: None\n"
          ]
        },
        {
          "name": "stderr",
          "output_type": "stream",
          "text": [
            "train: 100%|██████████| 40/40 [00:01<00:00, 21.00it/s]\n"
          ]
        },
        {
          "name": "stdout",
          "output_type": "stream",
          "text": [
            "   Epoch 39 - Train Loss: 0.07615587203763426 - Accuracy: None\n"
          ]
        },
        {
          "name": "stderr",
          "output_type": "stream",
          "text": [
            "train: 100%|██████████| 40/40 [00:01<00:00, 20.94it/s]\n"
          ]
        },
        {
          "name": "stdout",
          "output_type": "stream",
          "text": [
            "   Epoch 40 - Train Loss: 0.0782209527445957 - Accuracy: None\n"
          ]
        },
        {
          "name": "stderr",
          "output_type": "stream",
          "text": [
            "train: 100%|██████████| 40/40 [00:01<00:00, 20.95it/s]\n"
          ]
        },
        {
          "name": "stdout",
          "output_type": "stream",
          "text": [
            "   Epoch 41 - Train Loss: 0.0687062747310847 - Accuracy: None\n"
          ]
        },
        {
          "name": "stderr",
          "output_type": "stream",
          "text": [
            "train: 100%|██████████| 40/40 [00:01<00:00, 20.92it/s]\n"
          ]
        },
        {
          "name": "stdout",
          "output_type": "stream",
          "text": [
            "   Epoch 42 - Train Loss: 0.07160187198314816 - Accuracy: None\n"
          ]
        },
        {
          "name": "stderr",
          "output_type": "stream",
          "text": [
            "train: 100%|██████████| 40/40 [00:01<00:00, 20.90it/s]\n"
          ]
        },
        {
          "name": "stdout",
          "output_type": "stream",
          "text": [
            "   Epoch 43 - Train Loss: 0.06193068472493905 - Accuracy: None\n"
          ]
        },
        {
          "name": "stderr",
          "output_type": "stream",
          "text": [
            "train: 100%|██████████| 40/40 [00:01<00:00, 20.80it/s]\n"
          ]
        },
        {
          "name": "stdout",
          "output_type": "stream",
          "text": [
            "   Epoch 44 - Train Loss: 0.06263472909340635 - Accuracy: None\n"
          ]
        },
        {
          "name": "stderr",
          "output_type": "stream",
          "text": [
            "train: 100%|██████████| 40/40 [00:01<00:00, 20.06it/s]\n"
          ]
        },
        {
          "name": "stdout",
          "output_type": "stream",
          "text": [
            "   Epoch 45 - Train Loss: 0.0655844506341964 - Accuracy: None\n"
          ]
        },
        {
          "name": "stderr",
          "output_type": "stream",
          "text": [
            "train: 100%|██████████| 40/40 [00:01<00:00, 20.34it/s]\n"
          ]
        },
        {
          "name": "stdout",
          "output_type": "stream",
          "text": [
            "   Epoch 46 - Train Loss: 0.06660915273241699 - Accuracy: None\n"
          ]
        },
        {
          "name": "stderr",
          "output_type": "stream",
          "text": [
            "train: 100%|██████████| 40/40 [00:01<00:00, 20.52it/s]\n"
          ]
        },
        {
          "name": "stdout",
          "output_type": "stream",
          "text": [
            "   Epoch 47 - Train Loss: 0.06124878826667555 - Accuracy: None\n"
          ]
        },
        {
          "name": "stderr",
          "output_type": "stream",
          "text": [
            "train: 100%|██████████| 40/40 [00:01<00:00, 20.47it/s]\n"
          ]
        },
        {
          "name": "stdout",
          "output_type": "stream",
          "text": [
            "   Epoch 48 - Train Loss: 0.058613245593733154 - Accuracy: None\n"
          ]
        },
        {
          "name": "stderr",
          "output_type": "stream",
          "text": [
            "train: 100%|██████████| 40/40 [00:01<00:00, 20.58it/s]\n"
          ]
        },
        {
          "name": "stdout",
          "output_type": "stream",
          "text": [
            "   Epoch 49 - Train Loss: 0.07220450927270576 - Accuracy: None\n"
          ]
        },
        {
          "name": "stderr",
          "output_type": "stream",
          "text": [
            "train: 100%|██████████| 40/40 [00:01<00:00, 20.68it/s]\n"
          ]
        },
        {
          "name": "stdout",
          "output_type": "stream",
          "text": [
            "   Epoch 50 - Train Loss: 0.06587991816923022 - Accuracy: 0.9845\n"
          ]
        }
      ],
      "source": [
        "net = Resnet18(NUM_CLASSES).to(device)\n",
        "\n",
        "for epoch in range(N_EPOCHS):\n",
        "    eval = epoch % EVAL_INTERVAL == 0 or epoch == N_EPOCHS - 1\n",
        "    \n",
        "    average_train_loss, accuracy = train(net, train_loader, nn.CrossEntropyLoss(), torch.optim.Adam(net.parameters()), eval=eval)\n",
        "    print(f\"   Epoch {epoch + 1} - Train Loss: {average_train_loss} - Accuracy: {accuracy}\")"
      ]
    },
    {
      "cell_type": "code",
      "execution_count": 8,
      "metadata": {
        "id": "XQHlLDKZPl_h"
      },
      "outputs": [],
      "source": [
        "def test(model,data_loader,criterion):\n",
        "    model.eval()\n",
        "    average_test_loss = 0\n",
        "    accuracy = 0\n",
        "\n",
        "    with tqdm(data_loader, desc =\"test\") as test_tqdm, torch.no_grad():\n",
        "        for batch_idx, (inputs, targets) in enumerate(test_tqdm):\n",
        "            inputs, targets = inputs.to(device), targets.to(device)\n",
        "            \n",
        "            outputs = model(inputs)\n",
        "            loss = criterion(outputs, targets)\n",
        "            average_test_loss += loss.item()\n",
        "\n",
        "            predictions = nn.functional.softmax(outputs, dim=1).argmax(dim=1)\n",
        "            accuracy += (predictions == targets).sum().item()\n",
        "    average_test_loss /= len(data_loader)\n",
        "    accuracy /= len(data_loader.dataset)\n",
        "\n",
        "    return average_test_loss, accuracy\n"
      ]
    },
    {
      "cell_type": "code",
      "execution_count": 9,
      "metadata": {},
      "outputs": [
        {
          "name": "stderr",
          "output_type": "stream",
          "text": [
            "test: 100%|██████████| 1/1 [00:07<00:00,  7.06s/it]\n"
          ]
        },
        {
          "name": "stdout",
          "output_type": "stream",
          "text": [
            "   Validation Loss: 2.7717628479003906 - Accuracy: 0.601025\n"
          ]
        },
        {
          "name": "stderr",
          "output_type": "stream",
          "text": [
            "test: 100%|██████████| 1/1 [00:01<00:00,  1.65s/it]"
          ]
        },
        {
          "name": "stdout",
          "output_type": "stream",
          "text": [
            "   Test Loss: 2.853787422180176 - Accuracy: 0.5957\n"
          ]
        },
        {
          "name": "stderr",
          "output_type": "stream",
          "text": [
            "\n"
          ]
        }
      ],
      "source": [
        "average_val_loss, accuracy = test(net, val_loader, nn.CrossEntropyLoss())\n",
        "print(f\"   Validation Loss: {average_val_loss} - Accuracy: {accuracy}\")\n",
        "average_test_loss, accuracy = test(net, test_loader, nn.CrossEntropyLoss())\n",
        "print(f\"   Test Loss: {average_test_loss} - Accuracy: {accuracy}\")"
      ]
    },
    {
      "cell_type": "code",
      "execution_count": 10,
      "metadata": {
        "id": "F4wEAQeSQDYi"
      },
      "outputs": [],
      "source": [
        "def plot_umap(features,y):\n",
        "    reducer = umap.UMAP()\n",
        "    result = reducer.fit_transform(features)\n",
        "    plt.figure()\n",
        "    plt.scatter(result[:, 0], result[:, 1], c=y, cmap='tab10', s=5)\n",
        "    plt.colorbar()\n",
        "    plt.show()"
      ]
    },
    {
      "cell_type": "code",
      "execution_count": 11,
      "metadata": {
        "id": "FYEOb6fCCqrk"
      },
      "outputs": [],
      "source": [
        "feature_net = nn.Sequential(*list(net.resnet.children())[:-1]).to(device)\n",
        "\n",
        "feature_net.eval()\n",
        "net.eval()\n",
        "with torch.no_grad():\n",
        "    for inputs, _ in test_loader:\n",
        "        inputs = inputs.to(device)\n",
        "        features = feature_net(inputs).squeeze().cpu().numpy()\n",
        "        y_test = nn.functional.softmax(net(inputs), dim=1).argmax(dim=1).cpu().numpy()"
      ]
    },
    {
      "cell_type": "code",
      "execution_count": 12,
      "metadata": {},
      "outputs": [
        {
          "data": {
            "image/png": "[encoded data removed]",
            "text/plain": [
              "<Figure size 640x480 with 2 Axes>"
            ]
          },
          "metadata": {},
          "output_type": "display_data"
        }
      ],
      "source": [
        "plot_umap(features,y_test)"
      ]
    },
    {
      "cell_type": "markdown",
      "metadata": {
        "id": "nXmFv52CQcFv"
      },
      "source": [
        "###Q1.3 Adversarial Test (15 points)\n",
        "\n",
        "\n",
        "In this section, you are required to change the unseen data before calculating the accuracy of them from the output image of the backbone. Compare the results with the previous section. Your changes should include data augmentations such as adding Gaussian noise, color jitter, etc. Additionally, you should apply an adversarial attack such as fast gradient method on the network. You can use the cleverhans library for this purpose."
      ]
    },
    {
      "cell_type": "code",
      "execution_count": 13,
      "metadata": {
        "id": "iWJR4PjlQdgY"
      },
      "outputs": [],
      "source": [
        "augmentation = transforms.Compose([\n",
        "    transforms.ToTensor(),\n",
        "    transforms.Normalize(0.5, 0.5),\n",
        "    transforms.GaussianBlur(3),\n",
        "    transforms.ColorJitter(brightness=0.1, contrast=0.1, saturation=0.1, hue=0.1),\n",
        "    # transforms.RandomRotation(20),\n",
        "                                   ])\n",
        "\n",
        "train_aug = Cifar10Dataset(cifar_trainset,train_idx,augmentation)\n",
        "val_aug = Cifar10Dataset(cifar_trainset,val_idx,augmentation)\n",
        "test_aug = Cifar10Dataset(cifar_testset,range(len(cifar_testset)),augmentation)\n",
        "\n",
        "train_loader_aug = torch.utils.data.DataLoader(train_aug, batch_size=BATCH_SIZE)\n",
        "val_loader_aug = torch.utils.data.DataLoader(val_aug, batch_size=len(val_aug))\n",
        "test_loader_aug = torch.utils.data.DataLoader(test_aug, batch_size=len(test_aug))"
      ]
    },
    {
      "cell_type": "code",
      "execution_count": 14,
      "metadata": {
        "id": "rMCtqJAwBG7O"
      },
      "outputs": [
        {
          "data": {
            "image/png": "[encoded data removed]",
            "text/plain": [
              "<Figure size 640x480 with 2 Axes>"
            ]
          },
          "metadata": {},
          "output_type": "display_data"
        }
      ],
      "source": [
        "net.eval()\n",
        "feature_net.eval()\n",
        "with torch.no_grad():\n",
        "    for inputs, outputs in test_loader_aug:\n",
        "        inputs = inputs.to(device)\n",
        "        with torch.enable_grad():\n",
        "            # attacker = torchattacks.FGSM(model, eps=FGSM_EPS)\n",
        "            # inputs = attacker(inputs, outputs)\n",
        "            inputs = fast_gradient_method(net, inputs, eps=FGSM_EPS, norm=np.inf)\n",
        "        features = feature_net(inputs).squeeze().cpu().numpy()\n",
        "        advy_test = nn.functional.softmax(net(inputs), dim=1).argmax(dim=1).cpu().numpy()\n",
        "\n",
        "plot_umap(features,advy_test)"
      ]
    },
    {
      "cell_type": "markdown",
      "metadata": {
        "id": "-t4CSzKSIZJ2"
      },
      "source": [
        "##Q1.4 Adversarial Train (20 points)\n",
        "\n",
        "\n",
        "In this section, you should repeat the experiments on parts two and three using adversarial examples and compare the results. Here, the training data will be modified using augmentations and adversarial attack."
      ]
    },
    {
      "cell_type": "code",
      "execution_count": 15,
      "metadata": {
        "id": "PiFE7gspI9nM"
      },
      "outputs": [
        {
          "name": "stderr",
          "output_type": "stream",
          "text": [
            "train: 100%|██████████| 40/40 [00:15<00:00,  2.57it/s]\n"
          ]
        },
        {
          "name": "stdout",
          "output_type": "stream",
          "text": [
            "   Epoch 1 - Train Loss: 2.090756046772003 - Accuracy: 0.3389\n"
          ]
        },
        {
          "name": "stderr",
          "output_type": "stream",
          "text": [
            "train: 100%|██████████| 40/40 [00:18<00:00,  2.19it/s]\n"
          ]
        },
        {
          "name": "stdout",
          "output_type": "stream",
          "text": [
            "   Epoch 2 - Train Loss: 1.9180580139160157 - Accuracy: None\n"
          ]
        },
        {
          "name": "stderr",
          "output_type": "stream",
          "text": [
            "train: 100%|██████████| 40/40 [00:17<00:00,  2.32it/s]\n"
          ]
        },
        {
          "name": "stdout",
          "output_type": "stream",
          "text": [
            "   Epoch 3 - Train Loss: 1.7972144216299057 - Accuracy: None\n"
          ]
        },
        {
          "name": "stderr",
          "output_type": "stream",
          "text": [
            "train: 100%|██████████| 40/40 [00:15<00:00,  2.51it/s]\n"
          ]
        },
        {
          "name": "stdout",
          "output_type": "stream",
          "text": [
            "   Epoch 4 - Train Loss: 1.7204061031341553 - Accuracy: None\n"
          ]
        },
        {
          "name": "stderr",
          "output_type": "stream",
          "text": [
            "train: 100%|██████████| 40/40 [00:16<00:00,  2.44it/s]\n"
          ]
        },
        {
          "name": "stdout",
          "output_type": "stream",
          "text": [
            "   Epoch 5 - Train Loss: 1.6378674298524856 - Accuracy: None\n"
          ]
        },
        {
          "name": "stderr",
          "output_type": "stream",
          "text": [
            "train: 100%|██████████| 40/40 [00:21<00:00,  1.83it/s]\n"
          ]
        },
        {
          "name": "stdout",
          "output_type": "stream",
          "text": [
            "   Epoch 6 - Train Loss: 1.561021801829338 - Accuracy: None\n"
          ]
        },
        {
          "name": "stderr",
          "output_type": "stream",
          "text": [
            "train: 100%|██████████| 40/40 [00:15<00:00,  2.50it/s]\n"
          ]
        },
        {
          "name": "stdout",
          "output_type": "stream",
          "text": [
            "   Epoch 7 - Train Loss: 1.4855933606624603 - Accuracy: None\n"
          ]
        },
        {
          "name": "stderr",
          "output_type": "stream",
          "text": [
            "train: 100%|██████████| 40/40 [00:15<00:00,  2.55it/s]\n"
          ]
        },
        {
          "name": "stdout",
          "output_type": "stream",
          "text": [
            "   Epoch 8 - Train Loss: 1.4213015258312225 - Accuracy: None\n"
          ]
        },
        {
          "name": "stderr",
          "output_type": "stream",
          "text": [
            "train: 100%|██████████| 40/40 [00:15<00:00,  2.65it/s]\n"
          ]
        },
        {
          "name": "stdout",
          "output_type": "stream",
          "text": [
            "   Epoch 9 - Train Loss: 1.3435857802629472 - Accuracy: None\n"
          ]
        },
        {
          "name": "stderr",
          "output_type": "stream",
          "text": [
            "train: 100%|██████████| 40/40 [00:15<00:00,  2.53it/s]\n"
          ]
        },
        {
          "name": "stdout",
          "output_type": "stream",
          "text": [
            "   Epoch 10 - Train Loss: 1.2934683457016944 - Accuracy: None\n"
          ]
        },
        {
          "name": "stderr",
          "output_type": "stream",
          "text": [
            "train: 100%|██████████| 40/40 [00:14<00:00,  2.68it/s]\n"
          ]
        },
        {
          "name": "stdout",
          "output_type": "stream",
          "text": [
            "   Epoch 11 - Train Loss: 1.2673705145716667 - Accuracy: None\n"
          ]
        },
        {
          "name": "stderr",
          "output_type": "stream",
          "text": [
            "train: 100%|██████████| 40/40 [00:14<00:00,  2.76it/s]\n"
          ]
        },
        {
          "name": "stdout",
          "output_type": "stream",
          "text": [
            "   Epoch 12 - Train Loss: 1.2087607845664023 - Accuracy: None\n"
          ]
        },
        {
          "name": "stderr",
          "output_type": "stream",
          "text": [
            "train: 100%|██████████| 40/40 [00:15<00:00,  2.59it/s]\n"
          ]
        },
        {
          "name": "stdout",
          "output_type": "stream",
          "text": [
            "   Epoch 13 - Train Loss: 1.161457833647728 - Accuracy: None\n"
          ]
        },
        {
          "name": "stderr",
          "output_type": "stream",
          "text": [
            "train: 100%|██████████| 40/40 [00:15<00:00,  2.64it/s]\n"
          ]
        },
        {
          "name": "stdout",
          "output_type": "stream",
          "text": [
            "   Epoch 14 - Train Loss: 1.114621539413929 - Accuracy: None\n"
          ]
        },
        {
          "name": "stderr",
          "output_type": "stream",
          "text": [
            "train: 100%|██████████| 40/40 [00:15<00:00,  2.62it/s]\n"
          ]
        },
        {
          "name": "stdout",
          "output_type": "stream",
          "text": [
            "   Epoch 15 - Train Loss: 1.0796694785356522 - Accuracy: None\n"
          ]
        },
        {
          "name": "stderr",
          "output_type": "stream",
          "text": [
            "train: 100%|██████████| 40/40 [00:14<00:00,  2.69it/s]\n"
          ]
        },
        {
          "name": "stdout",
          "output_type": "stream",
          "text": [
            "   Epoch 16 - Train Loss: 1.023219606280327 - Accuracy: None\n"
          ]
        },
        {
          "name": "stderr",
          "output_type": "stream",
          "text": [
            "train: 100%|██████████| 40/40 [00:14<00:00,  2.72it/s]\n"
          ]
        },
        {
          "name": "stdout",
          "output_type": "stream",
          "text": [
            "   Epoch 17 - Train Loss: 0.9700886718928814 - Accuracy: None\n"
          ]
        },
        {
          "name": "stderr",
          "output_type": "stream",
          "text": [
            "train: 100%|██████████| 40/40 [00:14<00:00,  2.74it/s]\n"
          ]
        },
        {
          "name": "stdout",
          "output_type": "stream",
          "text": [
            "   Epoch 18 - Train Loss: 0.8996229119598865 - Accuracy: None\n"
          ]
        },
        {
          "name": "stderr",
          "output_type": "stream",
          "text": [
            "train: 100%|██████████| 40/40 [00:15<00:00,  2.60it/s]\n"
          ]
        },
        {
          "name": "stdout",
          "output_type": "stream",
          "text": [
            "   Epoch 19 - Train Loss: 0.8630853153765201 - Accuracy: None\n"
          ]
        },
        {
          "name": "stderr",
          "output_type": "stream",
          "text": [
            "train: 100%|██████████| 40/40 [00:15<00:00,  2.52it/s]\n"
          ]
        },
        {
          "name": "stdout",
          "output_type": "stream",
          "text": [
            "   Epoch 20 - Train Loss: 0.8317910440266132 - Accuracy: None\n"
          ]
        },
        {
          "name": "stderr",
          "output_type": "stream",
          "text": [
            "train: 100%|██████████| 40/40 [00:16<00:00,  2.48it/s]\n"
          ]
        },
        {
          "name": "stdout",
          "output_type": "stream",
          "text": [
            "   Epoch 21 - Train Loss: 0.7961287759244442 - Accuracy: None\n"
          ]
        },
        {
          "name": "stderr",
          "output_type": "stream",
          "text": [
            "train: 100%|██████████| 40/40 [00:15<00:00,  2.64it/s]\n"
          ]
        },
        {
          "name": "stdout",
          "output_type": "stream",
          "text": [
            "   Epoch 22 - Train Loss: 0.7442178517580033 - Accuracy: None\n"
          ]
        },
        {
          "name": "stderr",
          "output_type": "stream",
          "text": [
            "train: 100%|██████████| 40/40 [00:14<00:00,  2.68it/s]\n"
          ]
        },
        {
          "name": "stdout",
          "output_type": "stream",
          "text": [
            "   Epoch 23 - Train Loss: 0.7441321045160294 - Accuracy: None\n"
          ]
        },
        {
          "name": "stderr",
          "output_type": "stream",
          "text": [
            "train: 100%|██████████| 40/40 [00:14<00:00,  2.75it/s]\n"
          ]
        },
        {
          "name": "stdout",
          "output_type": "stream",
          "text": [
            "   Epoch 24 - Train Loss: 0.6643196068704128 - Accuracy: None\n"
          ]
        },
        {
          "name": "stderr",
          "output_type": "stream",
          "text": [
            "train: 100%|██████████| 40/40 [00:15<00:00,  2.62it/s]\n"
          ]
        },
        {
          "name": "stdout",
          "output_type": "stream",
          "text": [
            "   Epoch 25 - Train Loss: 0.6523885399103164 - Accuracy: None\n"
          ]
        },
        {
          "name": "stderr",
          "output_type": "stream",
          "text": [
            "train: 100%|██████████| 40/40 [00:15<00:00,  2.50it/s]\n"
          ]
        },
        {
          "name": "stdout",
          "output_type": "stream",
          "text": [
            "   Epoch 26 - Train Loss: 0.6319264277815819 - Accuracy: None\n"
          ]
        },
        {
          "name": "stderr",
          "output_type": "stream",
          "text": [
            "train: 100%|██████████| 40/40 [00:15<00:00,  2.50it/s]\n"
          ]
        },
        {
          "name": "stdout",
          "output_type": "stream",
          "text": [
            "   Epoch 27 - Train Loss: 0.612611023336649 - Accuracy: None\n"
          ]
        },
        {
          "name": "stderr",
          "output_type": "stream",
          "text": [
            "train: 100%|██████████| 40/40 [00:16<00:00,  2.50it/s]\n"
          ]
        },
        {
          "name": "stdout",
          "output_type": "stream",
          "text": [
            "   Epoch 28 - Train Loss: 0.5872932825237512 - Accuracy: None\n"
          ]
        },
        {
          "name": "stderr",
          "output_type": "stream",
          "text": [
            "train: 100%|██████████| 40/40 [00:15<00:00,  2.53it/s]\n"
          ]
        },
        {
          "name": "stdout",
          "output_type": "stream",
          "text": [
            "   Epoch 29 - Train Loss: 0.5587128531187773 - Accuracy: None\n"
          ]
        },
        {
          "name": "stderr",
          "output_type": "stream",
          "text": [
            "train: 100%|██████████| 40/40 [00:16<00:00,  2.49it/s]\n"
          ]
        },
        {
          "name": "stdout",
          "output_type": "stream",
          "text": [
            "   Epoch 30 - Train Loss: 0.5489248696714639 - Accuracy: None\n"
          ]
        },
        {
          "name": "stderr",
          "output_type": "stream",
          "text": [
            "train: 100%|██████████| 40/40 [00:15<00:00,  2.52it/s]\n"
          ]
        },
        {
          "name": "stdout",
          "output_type": "stream",
          "text": [
            "   Epoch 31 - Train Loss: 0.5082258209586143 - Accuracy: None\n"
          ]
        },
        {
          "name": "stderr",
          "output_type": "stream",
          "text": [
            "train: 100%|██████████| 40/40 [00:15<00:00,  2.53it/s]\n"
          ]
        },
        {
          "name": "stdout",
          "output_type": "stream",
          "text": [
            "   Epoch 32 - Train Loss: 0.49611944779753686 - Accuracy: None\n"
          ]
        },
        {
          "name": "stderr",
          "output_type": "stream",
          "text": [
            "train: 100%|██████████| 40/40 [00:16<00:00,  2.49it/s]\n"
          ]
        },
        {
          "name": "stdout",
          "output_type": "stream",
          "text": [
            "   Epoch 33 - Train Loss: 0.4733894016593695 - Accuracy: None\n"
          ]
        },
        {
          "name": "stderr",
          "output_type": "stream",
          "text": [
            "train: 100%|██████████| 40/40 [00:15<00:00,  2.66it/s]\n"
          ]
        },
        {
          "name": "stdout",
          "output_type": "stream",
          "text": [
            "   Epoch 34 - Train Loss: 0.4810447681695223 - Accuracy: None\n"
          ]
        },
        {
          "name": "stderr",
          "output_type": "stream",
          "text": [
            "train: 100%|██████████| 40/40 [00:16<00:00,  2.48it/s]\n"
          ]
        },
        {
          "name": "stdout",
          "output_type": "stream",
          "text": [
            "   Epoch 35 - Train Loss: 0.45148272812366486 - Accuracy: None\n"
          ]
        },
        {
          "name": "stderr",
          "output_type": "stream",
          "text": [
            "train: 100%|██████████| 40/40 [00:15<00:00,  2.51it/s]\n"
          ]
        },
        {
          "name": "stdout",
          "output_type": "stream",
          "text": [
            "   Epoch 36 - Train Loss: 0.4409820608794689 - Accuracy: None\n"
          ]
        },
        {
          "name": "stderr",
          "output_type": "stream",
          "text": [
            "train: 100%|██████████| 40/40 [00:16<00:00,  2.47it/s]\n"
          ]
        },
        {
          "name": "stdout",
          "output_type": "stream",
          "text": [
            "   Epoch 37 - Train Loss: 0.4163563925772905 - Accuracy: None\n"
          ]
        },
        {
          "name": "stderr",
          "output_type": "stream",
          "text": [
            "train: 100%|██████████| 40/40 [00:15<00:00,  2.60it/s]\n"
          ]
        },
        {
          "name": "stdout",
          "output_type": "stream",
          "text": [
            "   Epoch 38 - Train Loss: 0.40230191349983213 - Accuracy: None\n"
          ]
        },
        {
          "name": "stderr",
          "output_type": "stream",
          "text": [
            "train: 100%|██████████| 40/40 [00:15<00:00,  2.58it/s]\n"
          ]
        },
        {
          "name": "stdout",
          "output_type": "stream",
          "text": [
            "   Epoch 39 - Train Loss: 0.4079564124345779 - Accuracy: None\n"
          ]
        },
        {
          "name": "stderr",
          "output_type": "stream",
          "text": [
            "train: 100%|██████████| 40/40 [00:15<00:00,  2.58it/s]\n"
          ]
        },
        {
          "name": "stdout",
          "output_type": "stream",
          "text": [
            "   Epoch 40 - Train Loss: 0.3791750978678465 - Accuracy: None\n"
          ]
        },
        {
          "name": "stderr",
          "output_type": "stream",
          "text": [
            "train: 100%|██████████| 40/40 [00:15<00:00,  2.59it/s]\n"
          ]
        },
        {
          "name": "stdout",
          "output_type": "stream",
          "text": [
            "   Epoch 41 - Train Loss: 0.3736685700714588 - Accuracy: None\n"
          ]
        },
        {
          "name": "stderr",
          "output_type": "stream",
          "text": [
            "train: 100%|██████████| 40/40 [00:15<00:00,  2.63it/s]\n"
          ]
        },
        {
          "name": "stdout",
          "output_type": "stream",
          "text": [
            "   Epoch 42 - Train Loss: 0.36495674699544906 - Accuracy: None\n"
          ]
        },
        {
          "name": "stderr",
          "output_type": "stream",
          "text": [
            "train: 100%|██████████| 40/40 [00:15<00:00,  2.60it/s]\n"
          ]
        },
        {
          "name": "stdout",
          "output_type": "stream",
          "text": [
            "   Epoch 43 - Train Loss: 0.35138759575784206 - Accuracy: None\n"
          ]
        },
        {
          "name": "stderr",
          "output_type": "stream",
          "text": [
            "train: 100%|██████████| 40/40 [00:15<00:00,  2.62it/s]\n"
          ]
        },
        {
          "name": "stdout",
          "output_type": "stream",
          "text": [
            "   Epoch 44 - Train Loss: 0.3647787692025304 - Accuracy: None\n"
          ]
        },
        {
          "name": "stderr",
          "output_type": "stream",
          "text": [
            "train: 100%|██████████| 40/40 [00:15<00:00,  2.51it/s]\n"
          ]
        },
        {
          "name": "stdout",
          "output_type": "stream",
          "text": [
            "   Epoch 45 - Train Loss: 0.34745748341083527 - Accuracy: None\n"
          ]
        },
        {
          "name": "stderr",
          "output_type": "stream",
          "text": [
            "train: 100%|██████████| 40/40 [00:15<00:00,  2.63it/s]\n"
          ]
        },
        {
          "name": "stdout",
          "output_type": "stream",
          "text": [
            "   Epoch 46 - Train Loss: 0.33467140812426804 - Accuracy: None\n"
          ]
        },
        {
          "name": "stderr",
          "output_type": "stream",
          "text": [
            "train: 100%|██████████| 40/40 [00:15<00:00,  2.67it/s]\n"
          ]
        },
        {
          "name": "stdout",
          "output_type": "stream",
          "text": [
            "   Epoch 47 - Train Loss: 0.32626605965197086 - Accuracy: None\n"
          ]
        },
        {
          "name": "stderr",
          "output_type": "stream",
          "text": [
            "train: 100%|██████████| 40/40 [00:16<00:00,  2.46it/s]\n"
          ]
        },
        {
          "name": "stdout",
          "output_type": "stream",
          "text": [
            "   Epoch 48 - Train Loss: 0.320637365989387 - Accuracy: None\n"
          ]
        },
        {
          "name": "stderr",
          "output_type": "stream",
          "text": [
            "train: 100%|██████████| 40/40 [00:16<00:00,  2.48it/s]\n"
          ]
        },
        {
          "name": "stdout",
          "output_type": "stream",
          "text": [
            "   Epoch 49 - Train Loss: 0.3137233639135957 - Accuracy: None\n"
          ]
        },
        {
          "name": "stderr",
          "output_type": "stream",
          "text": [
            "train: 100%|██████████| 40/40 [00:16<00:00,  2.46it/s]\n"
          ]
        },
        {
          "name": "stdout",
          "output_type": "stream",
          "text": [
            "   Epoch 50 - Train Loss: 0.30036072582006457 - Accuracy: 0.9695\n"
          ]
        }
      ],
      "source": [
        "#Train resnet18 using the adversarial examples\n",
        "robust_net = Resnet18(NUM_CLASSES).to(device)\n",
        "\n",
        "for epoch in range(N_EPOCHS):\n",
        "    eval = epoch % EVAL_INTERVAL == 0 or epoch == N_EPOCHS - 1\n",
        "    \n",
        "    average_train_loss, accuracy = train(robust_net, train_loader_aug, nn.CrossEntropyLoss(), torch.optim.Adam(robust_net.parameters()), eval=eval, attack=True)\n",
        "    print(f\"   Epoch {epoch + 1} - Train Loss: {average_train_loss} - Accuracy: {accuracy}\")"
      ]
    },
    {
      "cell_type": "code",
      "execution_count": 16,
      "metadata": {},
      "outputs": [
        {
          "name": "stderr",
          "output_type": "stream",
          "text": [
            "test: 100%|██████████| 1/1 [00:58<00:00, 58.70s/it]\n"
          ]
        },
        {
          "name": "stdout",
          "output_type": "stream",
          "text": [
            "   Validation Loss: 3.0151309967041016 - Accuracy: 0.407675\n"
          ]
        },
        {
          "name": "stderr",
          "output_type": "stream",
          "text": [
            "test: 100%|██████████| 1/1 [00:14<00:00, 14.11s/it]"
          ]
        },
        {
          "name": "stdout",
          "output_type": "stream",
          "text": [
            "   Test Loss: 3.016113042831421 - Accuracy: 0.4127\n"
          ]
        },
        {
          "name": "stderr",
          "output_type": "stream",
          "text": [
            "\n"
          ]
        }
      ],
      "source": [
        "average_val_loss, accuracy = test(robust_net, val_loader_aug, nn.CrossEntropyLoss())\n",
        "print(f\"   Validation Loss: {average_val_loss} - Accuracy: {accuracy}\")\n",
        "average_test_loss, accuracy = test(robust_net, test_loader_aug, nn.CrossEntropyLoss())\n",
        "print(f\"   Test Loss: {average_test_loss} - Accuracy: {accuracy}\")"
      ]
    },
    {
      "cell_type": "code",
      "execution_count": 17,
      "metadata": {
        "id": "W0r_M1-bIYaN"
      },
      "outputs": [
        {
          "data": {
            "image/png": "[encoded data removed]",
            "text/plain": [
              "<Figure size 640x480 with 2 Axes>"
            ]
          },
          "metadata": {},
          "output_type": "display_data"
        }
      ],
      "source": [
        "robust_feature_net = nn.Sequential(*list(robust_net.resnet.children())[:-1]).to(device)\n",
        "robust_net.eval()\n",
        "robust_feature_net.eval()\n",
        "with torch.no_grad():\n",
        "    for inputs, outputs in test_loader:\n",
        "        inputs = inputs.to(device)\n",
        "        features = robust_feature_net(inputs).squeeze().cpu().numpy()\n",
        "        y_test = nn.functional.softmax(robust_net(inputs), dim=1).argmax(dim=1).cpu().numpy()\n",
        "\n",
        "plot_umap(features,y_test)"
      ]
    },
    {
      "cell_type": "code",
      "execution_count": 18,
      "metadata": {
        "id": "3Me9VJP3JDsO"
      },
      "outputs": [
        {
          "data": {
            "image/png": "[encoded data removed]",
            "text/plain": [
              "<Figure size 640x480 with 2 Axes>"
            ]
          },
          "metadata": {},
          "output_type": "display_data"
        }
      ],
      "source": [
        "robust_net.eval()\n",
        "robust_feature_net.eval()\n",
        "with torch.no_grad():\n",
        "    for inputs, outputs in test_loader_aug:\n",
        "        inputs = inputs.to(device)\n",
        "        with torch.enable_grad():\n",
        "            # attacker = torchattacks.FGSM(robust_model, eps=FGSM_EPS)\n",
        "            # inputs = attacker(inputs, outputs)\n",
        "            inputs = fast_gradient_method(robust_net, inputs, eps=FGSM_EPS, norm=np.inf)\n",
        "        features = robust_feature_net(inputs).squeeze().cpu().numpy()\n",
        "        advy_test = nn.functional.softmax(robust_net(inputs), dim=1).argmax(dim=1).cpu().numpy()\n",
        "\n",
        "plot_umap(features,advy_test)"
      ]
    },
    {
      "cell_type": "markdown",
      "metadata": {
        "id": "rA9ueCHhJSM7"
      },
      "source": [
        "##Question2 - Diffusion Model (45 points)\n",
        "\n",
        "This homework helps you implement a Denoising Diffusion Probabilistic Model (DDPM).  \n",
        "\n",
        "\n",
        "\n",
        "You can add any extra libraries that you need in this cell."
      ]
    },
    {
      "cell_type": "code",
      "execution_count": 1,
      "metadata": {
        "id": "1ISyKSLZygOQ"
      },
      "outputs": [
        {
          "name": "stderr",
          "output_type": "stream",
          "text": [
            "2024-04-03 03:32:17.907689: I tensorflow/core/platform/cpu_feature_guard.cc:182] This TensorFlow binary is optimized to use available CPU instructions in performance-critical operations.\n",
            "To enable the following instructions: SSE4.1 SSE4.2 AVX AVX2 FMA, in other operations, rebuild TensorFlow with the appropriate compiler flags.\n",
            "/u1/wxshi/miniconda3/envs/cs480/lib/python3.11/site-packages/transformers/utils/generic.py:260: UserWarning: torch.utils._pytree._register_pytree_node is deprecated. Please use torch.utils._pytree.register_pytree_node instead.\n",
            "  torch.utils._pytree._register_pytree_node(\n",
            "/u1/wxshi/miniconda3/envs/cs480/lib/python3.11/site-packages/transformers/utils/generic.py:260: UserWarning: torch.utils._pytree._register_pytree_node is deprecated. Please use torch.utils._pytree.register_pytree_node instead.\n",
            "  torch.utils._pytree._register_pytree_node(\n"
          ]
        }
      ],
      "source": [
        "import torchvision\n",
        "from torchvision import transforms\n",
        "import pandas as pd\n",
        "import numpy as np\n",
        "import transformers\n",
        "import torch\n",
        "from torch.utils.data import Dataset, DataLoader, random_split\n",
        "from tqdm import tqdm\n",
        "import torch.nn as nn\n",
        "from matplotlib import pyplot as plt\n",
        "from PIL import Image\n",
        "from keras.datasets import cifar10\n",
        "from diffusers import UNet2DModel, DDPMScheduler"
      ]
    },
    {
      "cell_type": "code",
      "execution_count": 2,
      "metadata": {},
      "outputs": [],
      "source": [
        "device=torch.device(\"cuda:0\" if torch.cuda.is_available() else \"cpu\")"
      ]
    },
    {
      "cell_type": "markdown",
      "metadata": {
        "id": "0SCFb5hvyfXV"
      },
      "source": [
        "###Q2.1 Load Data (5 points)\n",
        "\n",
        "In this question, you are going to use one arbitrary class of CIFAR-10 dataset. First, load this dataset, then choose any class you want and use that for the rest of this question."
      ]
    },
    {
      "cell_type": "code",
      "execution_count": 3,
      "metadata": {
        "id": "KO_a_wWDyaXz"
      },
      "outputs": [],
      "source": [
        "#Load the data and choose one class, then create the data loader.\n",
        "train_data, test_data = cifar10.load_data()"
      ]
    },
    {
      "cell_type": "code",
      "execution_count": 4,
      "metadata": {},
      "outputs": [],
      "source": [
        "# filter for one class\n",
        "CLASS = 1\n",
        "\n",
        "trainset = [x for x, y in zip(train_data[0], train_data[1]) if y == CLASS]"
      ]
    },
    {
      "cell_type": "code",
      "execution_count": 5,
      "metadata": {
        "id": "gcRsvgtY94tI"
      },
      "outputs": [],
      "source": [
        "class CustomDataset(Dataset):\n",
        "    def __init__(self, images, transform=None):\n",
        "        self.transform = transform\n",
        "        self.images = images\n",
        "\n",
        "    def __len__(self):\n",
        "        return len(self.images)\n",
        "\n",
        "    def __getitem__(self, idx):\n",
        "        image = self.images[idx]\n",
        "        if self.transform:\n",
        "            return self.transform(image)\n",
        "        return image\n",
        "\n",
        "\n",
        "preprocess = transforms.Compose([\n",
        "    transforms.ToTensor(),\n",
        "    transforms.Normalize([0.5], [0.5])\n",
        "])\n",
        "\n",
        "dataloader = DataLoader(CustomDataset(trainset, transform=preprocess), batch_size=64, shuffle=True)"
      ]
    },
    {
      "cell_type": "code",
      "execution_count": 6,
      "metadata": {
        "id": "VBt3lnzAQAa_"
      },
      "outputs": [],
      "source": [
        "def show_images(x):\n",
        "    x = x * 0.5 + 0.5\n",
        "    grid = torchvision.utils.make_grid(x)\n",
        "    grid = grid.detach().cpu().permute(1, 2, 0).clip(0, 1) * 255\n",
        "    grid = Image.fromarray(np.array(grid).astype(np.uint8))\n",
        "    return grid"
      ]
    },
    {
      "cell_type": "code",
      "execution_count": 7,
      "metadata": {
        "id": "li9k_88v_-fW"
      },
      "outputs": [
        {
          "data": {
            "image/jpeg": "[encoded data removed]",
            "image/png": "[encoded data removed]",
            "text/plain": [
              "<PIL.Image.Image image mode=RGB size=512x64>"
            ]
          },
          "execution_count": 7,
          "metadata": {},
          "output_type": "execute_result"
        }
      ],
      "source": [
        "x_test = next(iter(dataloader))[:6]\n",
        "show_images(x_test).resize((8 * 64, 64), resample=Image.NEAREST)"
      ]
    },
    {
      "cell_type": "markdown",
      "metadata": {
        "id": "WDzHxciJATXN"
      },
      "source": [
        "###Q2.2 Forward pass (10 points)\n",
        "\n",
        "In this section, you are going to implement the forward pass of your diffusion model. You can use diffusers library for this task. Then use show_images function to plot your target image at different times of the forward pass. (Simply use the default hypermeters mentioned in the DDPM paper or the default values of the diffuser library. Visualising images every 100 steps is enough)"
      ]
    },
    {
      "cell_type": "code",
      "execution_count": 8,
      "metadata": {
        "id": "LXcjXLUfBJUm"
      },
      "outputs": [
        {
          "data": {
            "image/jpeg": "[encoded data removed]",
            "image/png": "[encoded data removed]",
            "text/plain": [
              "<PIL.Image.Image image mode=RGB size=512x64>"
            ]
          },
          "execution_count": 8,
          "metadata": {},
          "output_type": "execute_result"
        }
      ],
      "source": [
        "noise_scheduler = DDPMScheduler()\n",
        "\n",
        "def forward_pass(inputs, scheduler):\n",
        "    batch_size = inputs.shape[0]\n",
        "\n",
        "    timesteps = 100 * torch.randint(\n",
        "                low=1, \n",
        "                high=10,\n",
        "                size=(batch_size,),\n",
        "                device=inputs.device,\n",
        "                dtype=torch.int64\n",
        "            )\n",
        "\n",
        "    noise = torch.randn(inputs.shape, device=inputs.device)\n",
        "    noisy_inputs = scheduler.add_noise(inputs, noise, timesteps)\n",
        "\n",
        "    return noisy_inputs, noise, timesteps\n",
        "\n",
        "example, _, _ = forward_pass(x_test, noise_scheduler)\n",
        "show_images(example).resize((8 * 64, 64), resample=Image.NEAREST)"
      ]
    },
    {
      "cell_type": "markdown",
      "metadata": {
        "id": "47qTkfQRH9Yt"
      },
      "source": [
        "###Q2.3 Denoising (15 points)\n",
        "\n",
        "In this section, you will implement the denoising part of your diffusion model. First, create a U-net and train it on your CIFAR10 data. Then, start from random noise and plot the denoised images of 6 random samples. (In the DDPM paper Sec 3.3, they also trained a reverse process decoder. You are not required to implement it in this assignment. Visualizing the outputs of the diffusion network is sufficient.)"
      ]
    },
    {
      "cell_type": "code",
      "execution_count": 9,
      "metadata": {
        "id": "7e6gQANaJ9-m"
      },
      "outputs": [],
      "source": [
        "model = UNet2DModel(\n",
        "    sample_size=32,\n",
        " )\n",
        "model = model.to(device)"
      ]
    },
    {
      "cell_type": "code",
      "execution_count": 10,
      "metadata": {
        "id": "j_K8ic9cKeWp"
      },
      "outputs": [],
      "source": [
        "def train(unet_model,data_loader,criterion,optimizer):\n",
        "\n",
        "    average_train_loss = 0\n",
        "\n",
        "    with tqdm(data_loader, desc =\"train\") as train_tqdm:\n",
        "        for batch_idx, inputs in enumerate(train_tqdm):\n",
        "            model.train()\n",
        "            clean_images = inputs.to(device)\n",
        "\n",
        "            optimizer.zero_grad()\n",
        "            noisy_images, noise, timesteps = forward_pass(clean_images, noise_scheduler)\n",
        "            noise_pred = unet_model(noisy_images, timesteps, return_dict=False)[0]\n",
        "            loss = criterion(noise_pred, noise)\n",
        "            loss.backward()\n",
        "            optimizer.step()\n",
        "\n",
        "            average_train_loss += loss.item()  \n",
        "    average_train_loss /= len(data_loader)\n",
        "            \n",
        "    return average_train_loss\n"
      ]
    },
    {
      "cell_type": "code",
      "execution_count": 13,
      "metadata": {},
      "outputs": [
        {
          "name": "stderr",
          "output_type": "stream",
          "text": [
            "train: 100%|██████████| 79/79 [00:24<00:00,  3.22it/s]\n"
          ]
        },
        {
          "name": "stdout",
          "output_type": "stream",
          "text": [
            "   Epoch 1 - Train Loss: 0.023740209886639177\n"
          ]
        },
        {
          "name": "stderr",
          "output_type": "stream",
          "text": [
            "train: 100%|██████████| 79/79 [00:24<00:00,  3.21it/s]\n"
          ]
        },
        {
          "name": "stdout",
          "output_type": "stream",
          "text": [
            "   Epoch 2 - Train Loss: 0.02308550159906662\n"
          ]
        },
        {
          "name": "stderr",
          "output_type": "stream",
          "text": [
            "train: 100%|██████████| 79/79 [00:24<00:00,  3.20it/s]\n"
          ]
        },
        {
          "name": "stdout",
          "output_type": "stream",
          "text": [
            "   Epoch 3 - Train Loss: 0.023538578466712673\n"
          ]
        },
        {
          "name": "stderr",
          "output_type": "stream",
          "text": [
            "train: 100%|██████████| 79/79 [00:24<00:00,  3.19it/s]\n"
          ]
        },
        {
          "name": "stdout",
          "output_type": "stream",
          "text": [
            "   Epoch 4 - Train Loss: 0.02280926999129072\n"
          ]
        },
        {
          "name": "stderr",
          "output_type": "stream",
          "text": [
            "train: 100%|██████████| 79/79 [00:24<00:00,  3.19it/s]\n"
          ]
        },
        {
          "name": "stdout",
          "output_type": "stream",
          "text": [
            "   Epoch 5 - Train Loss: 0.023263538008720816\n"
          ]
        },
        {
          "name": "stderr",
          "output_type": "stream",
          "text": [
            "train: 100%|██████████| 79/79 [00:24<00:00,  3.18it/s]\n"
          ]
        },
        {
          "name": "stdout",
          "output_type": "stream",
          "text": [
            "   Epoch 6 - Train Loss: 0.0227267732254312\n"
          ]
        },
        {
          "name": "stderr",
          "output_type": "stream",
          "text": [
            "train: 100%|██████████| 79/79 [00:25<00:00,  3.16it/s]\n"
          ]
        },
        {
          "name": "stdout",
          "output_type": "stream",
          "text": [
            "   Epoch 7 - Train Loss: 0.022718946213680733\n"
          ]
        },
        {
          "name": "stderr",
          "output_type": "stream",
          "text": [
            "train: 100%|██████████| 79/79 [00:24<00:00,  3.18it/s]\n"
          ]
        },
        {
          "name": "stdout",
          "output_type": "stream",
          "text": [
            "   Epoch 8 - Train Loss: 0.02283476526507094\n"
          ]
        },
        {
          "name": "stderr",
          "output_type": "stream",
          "text": [
            "train: 100%|██████████| 79/79 [00:24<00:00,  3.18it/s]\n"
          ]
        },
        {
          "name": "stdout",
          "output_type": "stream",
          "text": [
            "   Epoch 9 - Train Loss: 0.023202183008005348\n"
          ]
        },
        {
          "name": "stderr",
          "output_type": "stream",
          "text": [
            "train: 100%|██████████| 79/79 [00:24<00:00,  3.17it/s]\n"
          ]
        },
        {
          "name": "stdout",
          "output_type": "stream",
          "text": [
            "   Epoch 10 - Train Loss: 0.023081835854468467\n"
          ]
        },
        {
          "name": "stderr",
          "output_type": "stream",
          "text": [
            "train: 100%|██████████| 79/79 [00:24<00:00,  3.17it/s]\n"
          ]
        },
        {
          "name": "stdout",
          "output_type": "stream",
          "text": [
            "   Epoch 11 - Train Loss: 0.022562183038909223\n"
          ]
        },
        {
          "name": "stderr",
          "output_type": "stream",
          "text": [
            "train: 100%|██████████| 79/79 [00:24<00:00,  3.18it/s]\n"
          ]
        },
        {
          "name": "stdout",
          "output_type": "stream",
          "text": [
            "   Epoch 12 - Train Loss: 0.023333945252661463\n"
          ]
        },
        {
          "name": "stderr",
          "output_type": "stream",
          "text": [
            "train: 100%|██████████| 79/79 [00:24<00:00,  3.17it/s]\n"
          ]
        },
        {
          "name": "stdout",
          "output_type": "stream",
          "text": [
            "   Epoch 13 - Train Loss: 0.02376940673146444\n"
          ]
        },
        {
          "name": "stderr",
          "output_type": "stream",
          "text": [
            "train: 100%|██████████| 79/79 [00:24<00:00,  3.17it/s]\n"
          ]
        },
        {
          "name": "stdout",
          "output_type": "stream",
          "text": [
            "   Epoch 14 - Train Loss: 0.02301279141838792\n"
          ]
        },
        {
          "name": "stderr",
          "output_type": "stream",
          "text": [
            "train: 100%|██████████| 79/79 [00:24<00:00,  3.17it/s]\n"
          ]
        },
        {
          "name": "stdout",
          "output_type": "stream",
          "text": [
            "   Epoch 15 - Train Loss: 0.02322912711320044\n"
          ]
        },
        {
          "name": "stderr",
          "output_type": "stream",
          "text": [
            "train: 100%|██████████| 79/79 [00:24<00:00,  3.18it/s]\n"
          ]
        },
        {
          "name": "stdout",
          "output_type": "stream",
          "text": [
            "   Epoch 16 - Train Loss: 0.022378969554423908\n"
          ]
        },
        {
          "name": "stderr",
          "output_type": "stream",
          "text": [
            "train: 100%|██████████| 79/79 [00:24<00:00,  3.17it/s]\n"
          ]
        },
        {
          "name": "stdout",
          "output_type": "stream",
          "text": [
            "   Epoch 17 - Train Loss: 0.023055716311629816\n"
          ]
        },
        {
          "name": "stderr",
          "output_type": "stream",
          "text": [
            "train: 100%|██████████| 79/79 [00:24<00:00,  3.17it/s]\n"
          ]
        },
        {
          "name": "stdout",
          "output_type": "stream",
          "text": [
            "   Epoch 18 - Train Loss: 0.023556049017212057\n"
          ]
        },
        {
          "name": "stderr",
          "output_type": "stream",
          "text": [
            "train: 100%|██████████| 79/79 [00:24<00:00,  3.16it/s]\n"
          ]
        },
        {
          "name": "stdout",
          "output_type": "stream",
          "text": [
            "   Epoch 19 - Train Loss: 0.02248393131207816\n"
          ]
        },
        {
          "name": "stderr",
          "output_type": "stream",
          "text": [
            "train: 100%|██████████| 79/79 [00:24<00:00,  3.17it/s]\n"
          ]
        },
        {
          "name": "stdout",
          "output_type": "stream",
          "text": [
            "   Epoch 20 - Train Loss: 0.02343814464026614\n"
          ]
        },
        {
          "name": "stderr",
          "output_type": "stream",
          "text": [
            "train: 100%|██████████| 79/79 [00:24<00:00,  3.17it/s]\n"
          ]
        },
        {
          "name": "stdout",
          "output_type": "stream",
          "text": [
            "   Epoch 21 - Train Loss: 0.022579200801592838\n"
          ]
        },
        {
          "name": "stderr",
          "output_type": "stream",
          "text": [
            "train: 100%|██████████| 79/79 [00:24<00:00,  3.17it/s]\n"
          ]
        },
        {
          "name": "stdout",
          "output_type": "stream",
          "text": [
            "   Epoch 22 - Train Loss: 0.02328180559451067\n"
          ]
        },
        {
          "name": "stderr",
          "output_type": "stream",
          "text": [
            "train: 100%|██████████| 79/79 [00:24<00:00,  3.17it/s]\n"
          ]
        },
        {
          "name": "stdout",
          "output_type": "stream",
          "text": [
            "   Epoch 23 - Train Loss: 0.022093226543710202\n"
          ]
        },
        {
          "name": "stderr",
          "output_type": "stream",
          "text": [
            "train: 100%|██████████| 79/79 [00:24<00:00,  3.17it/s]\n"
          ]
        },
        {
          "name": "stdout",
          "output_type": "stream",
          "text": [
            "   Epoch 24 - Train Loss: 0.02318614204944689\n"
          ]
        },
        {
          "name": "stderr",
          "output_type": "stream",
          "text": [
            "train: 100%|██████████| 79/79 [00:24<00:00,  3.18it/s]\n"
          ]
        },
        {
          "name": "stdout",
          "output_type": "stream",
          "text": [
            "   Epoch 25 - Train Loss: 0.022106360361168656\n"
          ]
        },
        {
          "name": "stderr",
          "output_type": "stream",
          "text": [
            "train: 100%|██████████| 79/79 [00:24<00:00,  3.18it/s]\n"
          ]
        },
        {
          "name": "stdout",
          "output_type": "stream",
          "text": [
            "   Epoch 26 - Train Loss: 0.022775771638637858\n"
          ]
        },
        {
          "name": "stderr",
          "output_type": "stream",
          "text": [
            "train: 100%|██████████| 79/79 [00:24<00:00,  3.18it/s]\n"
          ]
        },
        {
          "name": "stdout",
          "output_type": "stream",
          "text": [
            "   Epoch 27 - Train Loss: 0.022362431134038335\n"
          ]
        },
        {
          "name": "stderr",
          "output_type": "stream",
          "text": [
            "train: 100%|██████████| 79/79 [00:24<00:00,  3.17it/s]\n"
          ]
        },
        {
          "name": "stdout",
          "output_type": "stream",
          "text": [
            "   Epoch 28 - Train Loss: 0.022213156146433533\n"
          ]
        },
        {
          "name": "stderr",
          "output_type": "stream",
          "text": [
            "train: 100%|██████████| 79/79 [00:25<00:00,  3.16it/s]\n"
          ]
        },
        {
          "name": "stdout",
          "output_type": "stream",
          "text": [
            "   Epoch 29 - Train Loss: 0.022791473077067845\n"
          ]
        },
        {
          "name": "stderr",
          "output_type": "stream",
          "text": [
            "train: 100%|██████████| 79/79 [00:24<00:00,  3.19it/s]\n"
          ]
        },
        {
          "name": "stdout",
          "output_type": "stream",
          "text": [
            "   Epoch 30 - Train Loss: 0.022435319574573374\n"
          ]
        },
        {
          "name": "stderr",
          "output_type": "stream",
          "text": [
            "train: 100%|██████████| 79/79 [00:24<00:00,  3.17it/s]\n"
          ]
        },
        {
          "name": "stdout",
          "output_type": "stream",
          "text": [
            "   Epoch 31 - Train Loss: 0.021818515349509595\n"
          ]
        },
        {
          "name": "stderr",
          "output_type": "stream",
          "text": [
            "train: 100%|██████████| 79/79 [00:24<00:00,  3.17it/s]\n"
          ]
        },
        {
          "name": "stdout",
          "output_type": "stream",
          "text": [
            "   Epoch 32 - Train Loss: 0.021850890821859807\n"
          ]
        },
        {
          "name": "stderr",
          "output_type": "stream",
          "text": [
            "train: 100%|██████████| 79/79 [00:24<00:00,  3.19it/s]\n"
          ]
        },
        {
          "name": "stdout",
          "output_type": "stream",
          "text": [
            "   Epoch 33 - Train Loss: 0.021723596756405467\n"
          ]
        },
        {
          "name": "stderr",
          "output_type": "stream",
          "text": [
            "train: 100%|██████████| 79/79 [00:24<00:00,  3.18it/s]\n"
          ]
        },
        {
          "name": "stdout",
          "output_type": "stream",
          "text": [
            "   Epoch 34 - Train Loss: 0.02170808041538996\n"
          ]
        },
        {
          "name": "stderr",
          "output_type": "stream",
          "text": [
            "train: 100%|██████████| 79/79 [00:24<00:00,  3.19it/s]\n"
          ]
        },
        {
          "name": "stdout",
          "output_type": "stream",
          "text": [
            "   Epoch 35 - Train Loss: 0.022361478473566756\n"
          ]
        },
        {
          "name": "stderr",
          "output_type": "stream",
          "text": [
            "train: 100%|██████████| 79/79 [00:24<00:00,  3.18it/s]\n"
          ]
        },
        {
          "name": "stdout",
          "output_type": "stream",
          "text": [
            "   Epoch 36 - Train Loss: 0.022199693949350827\n"
          ]
        },
        {
          "name": "stderr",
          "output_type": "stream",
          "text": [
            "train: 100%|██████████| 79/79 [00:24<00:00,  3.19it/s]\n"
          ]
        },
        {
          "name": "stdout",
          "output_type": "stream",
          "text": [
            "   Epoch 37 - Train Loss: 0.02268432917757125\n"
          ]
        },
        {
          "name": "stderr",
          "output_type": "stream",
          "text": [
            "train: 100%|██████████| 79/79 [00:24<00:00,  3.18it/s]\n"
          ]
        },
        {
          "name": "stdout",
          "output_type": "stream",
          "text": [
            "   Epoch 38 - Train Loss: 0.022421941939222662\n"
          ]
        },
        {
          "name": "stderr",
          "output_type": "stream",
          "text": [
            "train: 100%|██████████| 79/79 [00:24<00:00,  3.18it/s]\n"
          ]
        },
        {
          "name": "stdout",
          "output_type": "stream",
          "text": [
            "   Epoch 39 - Train Loss: 0.021896868543345716\n"
          ]
        },
        {
          "name": "stderr",
          "output_type": "stream",
          "text": [
            "train: 100%|██████████| 79/79 [00:24<00:00,  3.19it/s]\n"
          ]
        },
        {
          "name": "stdout",
          "output_type": "stream",
          "text": [
            "   Epoch 40 - Train Loss: 0.021304755365546747\n"
          ]
        },
        {
          "name": "stderr",
          "output_type": "stream",
          "text": [
            "train: 100%|██████████| 79/79 [00:24<00:00,  3.18it/s]\n"
          ]
        },
        {
          "name": "stdout",
          "output_type": "stream",
          "text": [
            "   Epoch 41 - Train Loss: 0.02134357728771394\n"
          ]
        },
        {
          "name": "stderr",
          "output_type": "stream",
          "text": [
            "train: 100%|██████████| 79/79 [00:24<00:00,  3.19it/s]\n"
          ]
        },
        {
          "name": "stdout",
          "output_type": "stream",
          "text": [
            "   Epoch 42 - Train Loss: 0.022056511355729044\n"
          ]
        },
        {
          "name": "stderr",
          "output_type": "stream",
          "text": [
            "train: 100%|██████████| 79/79 [00:24<00:00,  3.18it/s]\n"
          ]
        },
        {
          "name": "stdout",
          "output_type": "stream",
          "text": [
            "   Epoch 43 - Train Loss: 0.02337576741281944\n"
          ]
        },
        {
          "name": "stderr",
          "output_type": "stream",
          "text": [
            "train: 100%|██████████| 79/79 [00:24<00:00,  3.18it/s]\n"
          ]
        },
        {
          "name": "stdout",
          "output_type": "stream",
          "text": [
            "   Epoch 44 - Train Loss: 0.021342179113173786\n"
          ]
        },
        {
          "name": "stderr",
          "output_type": "stream",
          "text": [
            "train: 100%|██████████| 79/79 [00:24<00:00,  3.18it/s]\n"
          ]
        },
        {
          "name": "stdout",
          "output_type": "stream",
          "text": [
            "   Epoch 45 - Train Loss: 0.02148929114536017\n"
          ]
        },
        {
          "name": "stderr",
          "output_type": "stream",
          "text": [
            "train: 100%|██████████| 79/79 [00:24<00:00,  3.18it/s]\n"
          ]
        },
        {
          "name": "stdout",
          "output_type": "stream",
          "text": [
            "   Epoch 46 - Train Loss: 0.02214724940684023\n"
          ]
        },
        {
          "name": "stderr",
          "output_type": "stream",
          "text": [
            "train: 100%|██████████| 79/79 [00:24<00:00,  3.19it/s]\n"
          ]
        },
        {
          "name": "stdout",
          "output_type": "stream",
          "text": [
            "   Epoch 47 - Train Loss: 0.021463930312119708\n"
          ]
        },
        {
          "name": "stderr",
          "output_type": "stream",
          "text": [
            "train: 100%|██████████| 79/79 [00:24<00:00,  3.18it/s]\n"
          ]
        },
        {
          "name": "stdout",
          "output_type": "stream",
          "text": [
            "   Epoch 48 - Train Loss: 0.02254115680492\n"
          ]
        },
        {
          "name": "stderr",
          "output_type": "stream",
          "text": [
            "train: 100%|██████████| 79/79 [00:24<00:00,  3.18it/s]\n"
          ]
        },
        {
          "name": "stdout",
          "output_type": "stream",
          "text": [
            "   Epoch 49 - Train Loss: 0.021120425702744645\n"
          ]
        },
        {
          "name": "stderr",
          "output_type": "stream",
          "text": [
            "train: 100%|██████████| 79/79 [00:25<00:00,  3.16it/s]\n"
          ]
        },
        {
          "name": "stdout",
          "output_type": "stream",
          "text": [
            "   Epoch 50 - Train Loss: 0.022253759335019167\n"
          ]
        },
        {
          "name": "stderr",
          "output_type": "stream",
          "text": [
            "train: 100%|██████████| 79/79 [00:24<00:00,  3.18it/s]\n"
          ]
        },
        {
          "name": "stdout",
          "output_type": "stream",
          "text": [
            "   Epoch 51 - Train Loss: 0.021634009313074094\n"
          ]
        },
        {
          "name": "stderr",
          "output_type": "stream",
          "text": [
            "train: 100%|██████████| 79/79 [00:24<00:00,  3.18it/s]\n"
          ]
        },
        {
          "name": "stdout",
          "output_type": "stream",
          "text": [
            "   Epoch 52 - Train Loss: 0.02167514322584943\n"
          ]
        },
        {
          "name": "stderr",
          "output_type": "stream",
          "text": [
            "train: 100%|██████████| 79/79 [00:24<00:00,  3.18it/s]\n"
          ]
        },
        {
          "name": "stdout",
          "output_type": "stream",
          "text": [
            "   Epoch 53 - Train Loss: 0.02177114458165214\n"
          ]
        },
        {
          "name": "stderr",
          "output_type": "stream",
          "text": [
            "train: 100%|██████████| 79/79 [00:24<00:00,  3.18it/s]\n"
          ]
        },
        {
          "name": "stdout",
          "output_type": "stream",
          "text": [
            "   Epoch 54 - Train Loss: 0.022127638853897777\n"
          ]
        },
        {
          "name": "stderr",
          "output_type": "stream",
          "text": [
            "train: 100%|██████████| 79/79 [00:24<00:00,  3.18it/s]\n"
          ]
        },
        {
          "name": "stdout",
          "output_type": "stream",
          "text": [
            "   Epoch 55 - Train Loss: 0.02132397279426267\n"
          ]
        },
        {
          "name": "stderr",
          "output_type": "stream",
          "text": [
            "train: 100%|██████████| 79/79 [00:24<00:00,  3.18it/s]\n"
          ]
        },
        {
          "name": "stdout",
          "output_type": "stream",
          "text": [
            "   Epoch 56 - Train Loss: 0.022416240134854104\n"
          ]
        },
        {
          "name": "stderr",
          "output_type": "stream",
          "text": [
            "train: 100%|██████████| 79/79 [00:24<00:00,  3.18it/s]\n"
          ]
        },
        {
          "name": "stdout",
          "output_type": "stream",
          "text": [
            "   Epoch 57 - Train Loss: 0.021602440236395674\n"
          ]
        },
        {
          "name": "stderr",
          "output_type": "stream",
          "text": [
            "train: 100%|██████████| 79/79 [00:24<00:00,  3.18it/s]\n"
          ]
        },
        {
          "name": "stdout",
          "output_type": "stream",
          "text": [
            "   Epoch 58 - Train Loss: 0.02170755083472291\n"
          ]
        },
        {
          "name": "stderr",
          "output_type": "stream",
          "text": [
            "train: 100%|██████████| 79/79 [00:24<00:00,  3.18it/s]\n"
          ]
        },
        {
          "name": "stdout",
          "output_type": "stream",
          "text": [
            "   Epoch 59 - Train Loss: 0.02194052559759798\n"
          ]
        },
        {
          "name": "stderr",
          "output_type": "stream",
          "text": [
            "train: 100%|██████████| 79/79 [00:24<00:00,  3.19it/s]\n"
          ]
        },
        {
          "name": "stdout",
          "output_type": "stream",
          "text": [
            "   Epoch 60 - Train Loss: 0.021450540086230898\n"
          ]
        },
        {
          "name": "stderr",
          "output_type": "stream",
          "text": [
            "train: 100%|██████████| 79/79 [00:24<00:00,  3.18it/s]\n"
          ]
        },
        {
          "name": "stdout",
          "output_type": "stream",
          "text": [
            "   Epoch 61 - Train Loss: 0.02185252012944297\n"
          ]
        },
        {
          "name": "stderr",
          "output_type": "stream",
          "text": [
            "train: 100%|██████████| 79/79 [00:24<00:00,  3.18it/s]\n"
          ]
        },
        {
          "name": "stdout",
          "output_type": "stream",
          "text": [
            "   Epoch 62 - Train Loss: 0.02165642688404533\n"
          ]
        },
        {
          "name": "stderr",
          "output_type": "stream",
          "text": [
            "train: 100%|██████████| 79/79 [00:24<00:00,  3.18it/s]\n"
          ]
        },
        {
          "name": "stdout",
          "output_type": "stream",
          "text": [
            "   Epoch 63 - Train Loss: 0.021828951060630476\n"
          ]
        },
        {
          "name": "stderr",
          "output_type": "stream",
          "text": [
            "train: 100%|██████████| 79/79 [00:24<00:00,  3.17it/s]\n"
          ]
        },
        {
          "name": "stdout",
          "output_type": "stream",
          "text": [
            "   Epoch 64 - Train Loss: 0.02137584249854465\n"
          ]
        },
        {
          "name": "stderr",
          "output_type": "stream",
          "text": [
            "train: 100%|██████████| 79/79 [00:24<00:00,  3.18it/s]\n"
          ]
        },
        {
          "name": "stdout",
          "output_type": "stream",
          "text": [
            "   Epoch 65 - Train Loss: 0.02205822933936798\n"
          ]
        },
        {
          "name": "stderr",
          "output_type": "stream",
          "text": [
            "train: 100%|██████████| 79/79 [00:24<00:00,  3.18it/s]\n"
          ]
        },
        {
          "name": "stdout",
          "output_type": "stream",
          "text": [
            "   Epoch 66 - Train Loss: 0.021877001381561727\n"
          ]
        },
        {
          "name": "stderr",
          "output_type": "stream",
          "text": [
            "train: 100%|██████████| 79/79 [00:24<00:00,  3.17it/s]\n"
          ]
        },
        {
          "name": "stdout",
          "output_type": "stream",
          "text": [
            "   Epoch 67 - Train Loss: 0.021988975426441508\n"
          ]
        },
        {
          "name": "stderr",
          "output_type": "stream",
          "text": [
            "train: 100%|██████████| 79/79 [00:24<00:00,  3.17it/s]\n"
          ]
        },
        {
          "name": "stdout",
          "output_type": "stream",
          "text": [
            "   Epoch 68 - Train Loss: 0.021094195833547585\n"
          ]
        },
        {
          "name": "stderr",
          "output_type": "stream",
          "text": [
            "train: 100%|██████████| 79/79 [00:24<00:00,  3.17it/s]\n"
          ]
        },
        {
          "name": "stdout",
          "output_type": "stream",
          "text": [
            "   Epoch 69 - Train Loss: 0.02198574295904063\n"
          ]
        },
        {
          "name": "stderr",
          "output_type": "stream",
          "text": [
            "train: 100%|██████████| 79/79 [00:24<00:00,  3.18it/s]\n"
          ]
        },
        {
          "name": "stdout",
          "output_type": "stream",
          "text": [
            "   Epoch 70 - Train Loss: 0.021395249032898793\n"
          ]
        },
        {
          "name": "stderr",
          "output_type": "stream",
          "text": [
            "train: 100%|██████████| 79/79 [00:25<00:00,  3.14it/s]\n"
          ]
        },
        {
          "name": "stdout",
          "output_type": "stream",
          "text": [
            "   Epoch 71 - Train Loss: 0.020449086045256897\n"
          ]
        },
        {
          "name": "stderr",
          "output_type": "stream",
          "text": [
            "train: 100%|██████████| 79/79 [00:24<00:00,  3.17it/s]\n"
          ]
        },
        {
          "name": "stdout",
          "output_type": "stream",
          "text": [
            "   Epoch 72 - Train Loss: 0.02076363726224326\n"
          ]
        },
        {
          "name": "stderr",
          "output_type": "stream",
          "text": [
            "train: 100%|██████████| 79/79 [00:24<00:00,  3.17it/s]\n"
          ]
        },
        {
          "name": "stdout",
          "output_type": "stream",
          "text": [
            "   Epoch 73 - Train Loss: 0.02138559067551094\n"
          ]
        },
        {
          "name": "stderr",
          "output_type": "stream",
          "text": [
            "train: 100%|██████████| 79/79 [00:24<00:00,  3.17it/s]\n"
          ]
        },
        {
          "name": "stdout",
          "output_type": "stream",
          "text": [
            "   Epoch 74 - Train Loss: 0.022699591621190687\n"
          ]
        },
        {
          "name": "stderr",
          "output_type": "stream",
          "text": [
            "train: 100%|██████████| 79/79 [00:24<00:00,  3.17it/s]\n"
          ]
        },
        {
          "name": "stdout",
          "output_type": "stream",
          "text": [
            "   Epoch 75 - Train Loss: 0.021392095633605612\n"
          ]
        },
        {
          "name": "stderr",
          "output_type": "stream",
          "text": [
            "train: 100%|██████████| 79/79 [00:24<00:00,  3.17it/s]\n"
          ]
        },
        {
          "name": "stdout",
          "output_type": "stream",
          "text": [
            "   Epoch 76 - Train Loss: 0.02185288250823564\n"
          ]
        },
        {
          "name": "stderr",
          "output_type": "stream",
          "text": [
            "train: 100%|██████████| 79/79 [00:24<00:00,  3.17it/s]\n"
          ]
        },
        {
          "name": "stdout",
          "output_type": "stream",
          "text": [
            "   Epoch 77 - Train Loss: 0.021351870196529583\n"
          ]
        },
        {
          "name": "stderr",
          "output_type": "stream",
          "text": [
            "train: 100%|██████████| 79/79 [00:24<00:00,  3.18it/s]\n"
          ]
        },
        {
          "name": "stdout",
          "output_type": "stream",
          "text": [
            "   Epoch 78 - Train Loss: 0.020983833383438708\n"
          ]
        },
        {
          "name": "stderr",
          "output_type": "stream",
          "text": [
            "train: 100%|██████████| 79/79 [00:24<00:00,  3.17it/s]\n"
          ]
        },
        {
          "name": "stdout",
          "output_type": "stream",
          "text": [
            "   Epoch 79 - Train Loss: 0.02113324955483026\n"
          ]
        },
        {
          "name": "stderr",
          "output_type": "stream",
          "text": [
            "train: 100%|██████████| 79/79 [00:24<00:00,  3.18it/s]\n"
          ]
        },
        {
          "name": "stdout",
          "output_type": "stream",
          "text": [
            "   Epoch 80 - Train Loss: 0.021605082422117644\n"
          ]
        },
        {
          "name": "stderr",
          "output_type": "stream",
          "text": [
            "train: 100%|██████████| 79/79 [00:24<00:00,  3.19it/s]\n"
          ]
        },
        {
          "name": "stdout",
          "output_type": "stream",
          "text": [
            "   Epoch 81 - Train Loss: 0.021300829263238966\n"
          ]
        },
        {
          "name": "stderr",
          "output_type": "stream",
          "text": [
            "train: 100%|██████████| 79/79 [00:24<00:00,  3.18it/s]\n"
          ]
        },
        {
          "name": "stdout",
          "output_type": "stream",
          "text": [
            "   Epoch 82 - Train Loss: 0.020225846432620966\n"
          ]
        },
        {
          "name": "stderr",
          "output_type": "stream",
          "text": [
            "train: 100%|██████████| 79/79 [00:24<00:00,  3.18it/s]\n"
          ]
        },
        {
          "name": "stdout",
          "output_type": "stream",
          "text": [
            "   Epoch 83 - Train Loss: 0.021264340009398853\n"
          ]
        },
        {
          "name": "stderr",
          "output_type": "stream",
          "text": [
            "train: 100%|██████████| 79/79 [00:24<00:00,  3.19it/s]\n"
          ]
        },
        {
          "name": "stdout",
          "output_type": "stream",
          "text": [
            "   Epoch 84 - Train Loss: 0.021414742133096805\n"
          ]
        },
        {
          "name": "stderr",
          "output_type": "stream",
          "text": [
            "train: 100%|██████████| 79/79 [00:24<00:00,  3.19it/s]\n"
          ]
        },
        {
          "name": "stdout",
          "output_type": "stream",
          "text": [
            "   Epoch 85 - Train Loss: 0.02117843126665942\n"
          ]
        },
        {
          "name": "stderr",
          "output_type": "stream",
          "text": [
            "train: 100%|██████████| 79/79 [00:24<00:00,  3.18it/s]\n"
          ]
        },
        {
          "name": "stdout",
          "output_type": "stream",
          "text": [
            "   Epoch 86 - Train Loss: 0.021477790360775174\n"
          ]
        },
        {
          "name": "stderr",
          "output_type": "stream",
          "text": [
            "train: 100%|██████████| 79/79 [00:24<00:00,  3.18it/s]\n"
          ]
        },
        {
          "name": "stdout",
          "output_type": "stream",
          "text": [
            "   Epoch 87 - Train Loss: 0.021283862039541142\n"
          ]
        },
        {
          "name": "stderr",
          "output_type": "stream",
          "text": [
            "train: 100%|██████████| 79/79 [00:24<00:00,  3.18it/s]\n"
          ]
        },
        {
          "name": "stdout",
          "output_type": "stream",
          "text": [
            "   Epoch 88 - Train Loss: 0.021034580867596065\n"
          ]
        },
        {
          "name": "stderr",
          "output_type": "stream",
          "text": [
            "train: 100%|██████████| 79/79 [00:24<00:00,  3.19it/s]\n"
          ]
        },
        {
          "name": "stdout",
          "output_type": "stream",
          "text": [
            "   Epoch 89 - Train Loss: 0.02087372220769713\n"
          ]
        },
        {
          "name": "stderr",
          "output_type": "stream",
          "text": [
            "train: 100%|██████████| 79/79 [00:24<00:00,  3.19it/s]\n"
          ]
        },
        {
          "name": "stdout",
          "output_type": "stream",
          "text": [
            "   Epoch 90 - Train Loss: 0.021621453823356687\n"
          ]
        },
        {
          "name": "stderr",
          "output_type": "stream",
          "text": [
            "train: 100%|██████████| 79/79 [00:24<00:00,  3.18it/s]\n"
          ]
        },
        {
          "name": "stdout",
          "output_type": "stream",
          "text": [
            "   Epoch 91 - Train Loss: 0.020620357775707032\n"
          ]
        },
        {
          "name": "stderr",
          "output_type": "stream",
          "text": [
            "train: 100%|██████████| 79/79 [00:24<00:00,  3.19it/s]\n"
          ]
        },
        {
          "name": "stdout",
          "output_type": "stream",
          "text": [
            "   Epoch 92 - Train Loss: 0.021498158951348895\n"
          ]
        },
        {
          "name": "stderr",
          "output_type": "stream",
          "text": [
            "train: 100%|██████████| 79/79 [00:25<00:00,  3.16it/s]\n"
          ]
        },
        {
          "name": "stdout",
          "output_type": "stream",
          "text": [
            "   Epoch 93 - Train Loss: 0.021021053418988668\n"
          ]
        },
        {
          "name": "stderr",
          "output_type": "stream",
          "text": [
            "train: 100%|██████████| 79/79 [00:24<00:00,  3.18it/s]\n"
          ]
        },
        {
          "name": "stdout",
          "output_type": "stream",
          "text": [
            "   Epoch 94 - Train Loss: 0.02143934858326293\n"
          ]
        },
        {
          "name": "stderr",
          "output_type": "stream",
          "text": [
            "train: 100%|██████████| 79/79 [00:24<00:00,  3.19it/s]\n"
          ]
        },
        {
          "name": "stdout",
          "output_type": "stream",
          "text": [
            "   Epoch 95 - Train Loss: 0.021231187448565718\n"
          ]
        },
        {
          "name": "stderr",
          "output_type": "stream",
          "text": [
            "train: 100%|██████████| 79/79 [00:24<00:00,  3.18it/s]\n"
          ]
        },
        {
          "name": "stdout",
          "output_type": "stream",
          "text": [
            "   Epoch 96 - Train Loss: 0.020936802854832216\n"
          ]
        },
        {
          "name": "stderr",
          "output_type": "stream",
          "text": [
            "train: 100%|██████████| 79/79 [00:24<00:00,  3.19it/s]\n"
          ]
        },
        {
          "name": "stdout",
          "output_type": "stream",
          "text": [
            "   Epoch 97 - Train Loss: 0.02025502671405107\n"
          ]
        },
        {
          "name": "stderr",
          "output_type": "stream",
          "text": [
            "train: 100%|██████████| 79/79 [00:24<00:00,  3.18it/s]\n"
          ]
        },
        {
          "name": "stdout",
          "output_type": "stream",
          "text": [
            "   Epoch 98 - Train Loss: 0.02136389854588086\n"
          ]
        },
        {
          "name": "stderr",
          "output_type": "stream",
          "text": [
            "train: 100%|██████████| 79/79 [00:24<00:00,  3.18it/s]\n"
          ]
        },
        {
          "name": "stdout",
          "output_type": "stream",
          "text": [
            "   Epoch 99 - Train Loss: 0.02156112389049575\n"
          ]
        },
        {
          "name": "stderr",
          "output_type": "stream",
          "text": [
            "train: 100%|██████████| 79/79 [00:24<00:00,  3.18it/s]"
          ]
        },
        {
          "name": "stdout",
          "output_type": "stream",
          "text": [
            "   Epoch 100 - Train Loss: 0.021158416555086268\n"
          ]
        },
        {
          "name": "stderr",
          "output_type": "stream",
          "text": [
            "\n"
          ]
        }
      ],
      "source": [
        "NUM_EPOCHS = 100\n",
        "for i in range(NUM_EPOCHS):\n",
        "    average_train_loss = train(model, dataloader, nn.functional.mse_loss, torch.optim.AdamW(model.parameters(), lr=1e-4))\n",
        "    print(f\"   Epoch {i + 1} - Train Loss: {average_train_loss}\")"
      ]
    },
    {
      "cell_type": "code",
      "execution_count": 15,
      "metadata": {
        "id": "YwxxnkyaK3zz"
      },
      "outputs": [
        {
          "name": "stderr",
          "output_type": "stream",
          "text": [
            "100%|██████████| 1000/1000 [00:21<00:00, 47.43it/s]\n"
          ]
        },
        {
          "data": {
            "image/jpeg": "[encoded data removed]",
            "image/png": "[encoded data removed]",
            "text/plain": [
              "<PIL.Image.Image image mode=RGB size=512x64>"
            ]
          },
          "execution_count": 15,
          "metadata": {},
          "output_type": "execute_result"
        }
      ],
      "source": [
        "sample = torch.randn(6, 3, 32, 32).to(device)\n",
        "\n",
        "#denoise\n",
        "for t in tqdm(noise_scheduler.timesteps):\n",
        "    with torch.no_grad():\n",
        "        noisy_residual = model(sample, t).sample\n",
        "    previous_noisy_sample = noise_scheduler.step(noisy_residual, t, sample).prev_sample\n",
        "    sample = previous_noisy_sample\n",
        "\n",
        "show_images(sample).resize((8 * 64, 64), resample=Image.NEAREST)\n"
      ]
    },
    {
      "cell_type": "markdown",
      "metadata": {
        "id": "SV8eXSQ-Lkvj"
      },
      "source": [
        "###Q2.4 Conditional Equation (15 points)\n",
        "\n",
        "In this part, you should express $\\alpha_t$ in terms of the values of $\\beta_i$, in the following equation:\n",
        "\n",
        "$$q(z_t|z_0) = \\mathcal{N}(z_t; \\sqrt{\\alpha_t}z_0, (1-\\alpha_t)I)$$\n",
        "\n",
        "Take this into account that the conditional variance for the one step forward diffusion (the following equation) at time t is given by $\\beta_t$.\n",
        "\n",
        "$$q(z_t|z_{t-1}) = \\mathcal{N}(z_t; \\sqrt{1-\\beta_t}z_{t-1}, \\beta_tI)$$"
      ]
    },
    {
      "cell_type": "markdown",
      "metadata": {
        "id": "25GBfT2pRQtO"
      },
      "source": [
        "solution:\n",
        "\n",
        "If we want to sample:\n",
        "$$z_T \\sim q( z_T | z_{ T - 1 } ) = \\mathcal N \\left(z_T ; \\sqrt{ 1 - \\beta_T } z_{ T - 1 }, \\beta_T I \\right)$$\n",
        "for all $T=1,2,\\ldots$\n",
        "\n",
        "Then by re-parameterization trick, we get:\n",
        "$$z_T = \\sqrt{ 1 - \\beta_T } z_{ T - 1 } + \\sqrt { \\beta_T } \\epsilon$$\n",
        "where $\\epsilon \\sim \\mathcal N ( 0, 1 )$.\n",
        "\n",
        "Let $a_t = 1 - \\beta_t$. Then we get:\n",
        "\n",
        "$$\\begin{align*}\n",
        "z_t &= \\sqrt{ a_t } z_{ t - 1 } + \\sqrt { 1 - a_t } \\epsilon \\\\\n",
        "&= \\sqrt{ a_t } \\left(\\sqrt{ a_{t-1} } z_{ t - 2 } + \\sqrt { 1 - a_{t-1} } \\epsilon\\right) + \\sqrt { 1 - a_t } \\epsilon \\\\\n",
        "&= \\sqrt{a_ta_{t-1}}z_{t-2}+\\sqrt{a_t(1-a_{t-1})}\\epsilon + \\sqrt { 1 - a_t } \\epsilon\n",
        "\\end{align*}$$\n",
        "\n",
        "By re-parameterization again, the latter two terms imply:\n",
        "- $0 + \\sqrt{a_t(1-a_{t-1})}\\epsilon \\to X\\sim \\mathcal N(0, a_t(1-a_{t-1}))$\n",
        "- $0 + \\sqrt { 1 - a_t } \\epsilon \\to Y\\sim \\mathcal N(0, 1 - a_t)$\n",
        "\n",
        "$X$ and $Y$ are IID _(at least, we assume that the two terms are independently sampled)_, so we have:\n",
        "$$X+Y\\sim \\mathcal N(0, a_t(1-a_{t-1}) + 1 - a_t)=\\mathcal N(0, 1-a_ta_{t-1})$$\n",
        "\n",
        "Thus we get:\n",
        "$$\\begin{align*}\n",
        "z_t=& \\sqrt{a_ta_{t-1}}z_{t-2} + \\sqrt{1-a_ta_{t-1}}\\epsilon \\\\\n",
        "&\\vdots \\\\\n",
        "=& \\sqrt{a_ta_{t-1}\\ldots a_1}z_{0} + \\sqrt{1-a_ta_{t-1}\\ldots a_1}\\epsilon\n",
        "\\end{align*}$$\n",
        "\n",
        "Let $\\alpha_t=\\prod_{T=1}^ta_T$. Then we are left with:\n",
        "$$ z_t = \\sqrt{\\alpha_t}z_{0} + \\sqrt{1-\\alpha_t}\\epsilon $$\n",
        "\n",
        "Therefore, by reparameterization again, \n",
        "$$z_t\\sim q(z_t|z_0)=\\mathcal N(z_t; \\sqrt{\\alpha_t}z_{0}, (1-\\alpha_t)I)$$"
      ]
    }
  ],
  "metadata": {
    "colab": {
      "provenance": []
    },
    "kernelspec": {
      "display_name": "Python 3",
      "name": "python3"
    },
    "language_info": {
      "codemirror_mode": {
        "name": "ipython",
        "version": 3
      },
      "file_extension": ".py",
      "mimetype": "text/x-python",
      "name": "python",
      "nbconvert_exporter": "python",
      "pygments_lexer": "ipython3",
      "version": "3.11.5"
    }
  },
  "nbformat": 4,
  "nbformat_minor": 0
}
